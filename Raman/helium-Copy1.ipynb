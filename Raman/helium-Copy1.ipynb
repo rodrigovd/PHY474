{
 "cells": [
  {
   "cell_type": "raw",
   "metadata": {},
   "source": [
    "## Helium Pectra Calibration of double monochrometer Ramnor "
   ]
  },
  {
   "cell_type": "code",
   "execution_count": 1,
   "metadata": {},
   "outputs": [],
   "source": [
    "import numpy as np\n",
    "import scipy as sp\n",
    "import pandas as pd\n",
    "import seaborn as sns\n",
    "import matplotlib.pyplot as plt\n",
    "from scipy.signal import find_peaks\n",
    "from scipy.optimize import curve_fit\n",
    "from scipy import stats"
   ]
  },
  {
   "cell_type": "markdown",
   "metadata": {},
   "source": [
    "read data collected tron NI labview"
   ]
  },
  {
   "cell_type": "code",
   "execution_count": 2,
   "metadata": {},
   "outputs": [],
   "source": [
    "df = pd.read_csv('helium3.csv')"
   ]
  },
  {
   "cell_type": "code",
   "execution_count": 3,
   "metadata": {},
   "outputs": [
    {
     "data": {
      "text/html": [
       "<div>\n",
       "<style scoped>\n",
       "    .dataframe tbody tr th:only-of-type {\n",
       "        vertical-align: middle;\n",
       "    }\n",
       "\n",
       "    .dataframe tbody tr th {\n",
       "        vertical-align: top;\n",
       "    }\n",
       "\n",
       "    .dataframe thead th {\n",
       "        text-align: right;\n",
       "    }\n",
       "</style>\n",
       "<table border=\"1\" class=\"dataframe\">\n",
       "  <thead>\n",
       "    <tr style=\"text-align: right;\">\n",
       "      <th></th>\n",
       "      <th>Column1</th>\n",
       "      <th>Column2</th>\n",
       "      <th>Column3</th>\n",
       "      <th>Column4</th>\n",
       "      <th>Column5</th>\n",
       "      <th>Column6</th>\n",
       "      <th>Column7</th>\n",
       "      <th>Column8</th>\n",
       "      <th>Column9</th>\n",
       "      <th>Column10</th>\n",
       "      <th>Column11</th>\n",
       "      <th>Average</th>\n",
       "    </tr>\n",
       "  </thead>\n",
       "  <tbody>\n",
       "    <tr>\n",
       "      <th>0</th>\n",
       "      <td>88971</td>\n",
       "      <td>0.115846</td>\n",
       "      <td>0.117186</td>\n",
       "      <td>0.115176</td>\n",
       "      <td>0.115846</td>\n",
       "      <td>0.115511</td>\n",
       "      <td>0.115176</td>\n",
       "      <td>0.114841</td>\n",
       "      <td>0.115846</td>\n",
       "      <td>0.114841</td>\n",
       "      <td>0.115511</td>\n",
       "      <td>0.115578</td>\n",
       "    </tr>\n",
       "    <tr>\n",
       "      <th>1</th>\n",
       "      <td>88972</td>\n",
       "      <td>0.113835</td>\n",
       "      <td>0.115511</td>\n",
       "      <td>0.114841</td>\n",
       "      <td>0.116516</td>\n",
       "      <td>0.116181</td>\n",
       "      <td>0.112495</td>\n",
       "      <td>0.115176</td>\n",
       "      <td>0.117521</td>\n",
       "      <td>0.114841</td>\n",
       "      <td>0.111825</td>\n",
       "      <td>0.114874</td>\n",
       "    </tr>\n",
       "    <tr>\n",
       "      <th>2</th>\n",
       "      <td>88973</td>\n",
       "      <td>0.114841</td>\n",
       "      <td>0.115176</td>\n",
       "      <td>0.116516</td>\n",
       "      <td>0.114506</td>\n",
       "      <td>0.114841</td>\n",
       "      <td>0.112830</td>\n",
       "      <td>0.116516</td>\n",
       "      <td>0.114506</td>\n",
       "      <td>0.115511</td>\n",
       "      <td>0.114506</td>\n",
       "      <td>0.114975</td>\n",
       "    </tr>\n",
       "    <tr>\n",
       "      <th>3</th>\n",
       "      <td>88974</td>\n",
       "      <td>0.116181</td>\n",
       "      <td>0.117521</td>\n",
       "      <td>0.109144</td>\n",
       "      <td>0.115846</td>\n",
       "      <td>0.115176</td>\n",
       "      <td>0.113165</td>\n",
       "      <td>0.113500</td>\n",
       "      <td>0.113500</td>\n",
       "      <td>0.115511</td>\n",
       "      <td>0.116851</td>\n",
       "      <td>0.114639</td>\n",
       "    </tr>\n",
       "    <tr>\n",
       "      <th>4</th>\n",
       "      <td>88975</td>\n",
       "      <td>0.114171</td>\n",
       "      <td>0.115511</td>\n",
       "      <td>0.115511</td>\n",
       "      <td>0.115846</td>\n",
       "      <td>0.115846</td>\n",
       "      <td>0.115511</td>\n",
       "      <td>0.115846</td>\n",
       "      <td>0.114171</td>\n",
       "      <td>0.110820</td>\n",
       "      <td>0.116181</td>\n",
       "      <td>0.114941</td>\n",
       "    </tr>\n",
       "    <tr>\n",
       "      <th>...</th>\n",
       "      <td>...</td>\n",
       "      <td>...</td>\n",
       "      <td>...</td>\n",
       "      <td>...</td>\n",
       "      <td>...</td>\n",
       "      <td>...</td>\n",
       "      <td>...</td>\n",
       "      <td>...</td>\n",
       "      <td>...</td>\n",
       "      <td>...</td>\n",
       "      <td>...</td>\n",
       "      <td>...</td>\n",
       "    </tr>\n",
       "    <tr>\n",
       "      <th>10026</th>\n",
       "      <td>98997</td>\n",
       "      <td>0.114506</td>\n",
       "      <td>0.115846</td>\n",
       "      <td>0.115176</td>\n",
       "      <td>0.116851</td>\n",
       "      <td>0.116516</td>\n",
       "      <td>0.114506</td>\n",
       "      <td>0.116181</td>\n",
       "      <td>0.115176</td>\n",
       "      <td>0.115846</td>\n",
       "      <td>0.115846</td>\n",
       "      <td>0.115645</td>\n",
       "    </tr>\n",
       "    <tr>\n",
       "      <th>10027</th>\n",
       "      <td>98998</td>\n",
       "      <td>0.115511</td>\n",
       "      <td>0.117186</td>\n",
       "      <td>0.116181</td>\n",
       "      <td>0.111490</td>\n",
       "      <td>0.115176</td>\n",
       "      <td>0.115176</td>\n",
       "      <td>0.116181</td>\n",
       "      <td>0.116181</td>\n",
       "      <td>0.113835</td>\n",
       "      <td>0.112160</td>\n",
       "      <td>0.114908</td>\n",
       "    </tr>\n",
       "    <tr>\n",
       "      <th>10028</th>\n",
       "      <td>98999</td>\n",
       "      <td>0.113835</td>\n",
       "      <td>0.110485</td>\n",
       "      <td>0.114841</td>\n",
       "      <td>0.115511</td>\n",
       "      <td>0.114506</td>\n",
       "      <td>0.112160</td>\n",
       "      <td>0.114506</td>\n",
       "      <td>0.115176</td>\n",
       "      <td>0.114506</td>\n",
       "      <td>0.116516</td>\n",
       "      <td>0.114204</td>\n",
       "    </tr>\n",
       "    <tr>\n",
       "      <th>10029</th>\n",
       "      <td>99000</td>\n",
       "      <td>0.114171</td>\n",
       "      <td>0.112830</td>\n",
       "      <td>0.114506</td>\n",
       "      <td>0.114841</td>\n",
       "      <td>0.115176</td>\n",
       "      <td>0.115176</td>\n",
       "      <td>0.106128</td>\n",
       "      <td>0.116516</td>\n",
       "      <td>0.114506</td>\n",
       "      <td>0.118191</td>\n",
       "      <td>0.114204</td>\n",
       "    </tr>\n",
       "    <tr>\n",
       "      <th>10030</th>\n",
       "      <td>99001</td>\n",
       "      <td>0.115176</td>\n",
       "      <td>0.115511</td>\n",
       "      <td>0.115846</td>\n",
       "      <td>0.114506</td>\n",
       "      <td>0.114506</td>\n",
       "      <td>0.115511</td>\n",
       "      <td>0.115176</td>\n",
       "      <td>0.114841</td>\n",
       "      <td>0.114506</td>\n",
       "      <td>0.116851</td>\n",
       "      <td>0.115243</td>\n",
       "    </tr>\n",
       "  </tbody>\n",
       "</table>\n",
       "<p>10031 rows × 12 columns</p>\n",
       "</div>"
      ],
      "text/plain": [
       "       Column1   Column2   Column3   Column4   Column5   Column6   Column7  \\\n",
       "0        88971  0.115846  0.117186  0.115176  0.115846  0.115511  0.115176   \n",
       "1        88972  0.113835  0.115511  0.114841  0.116516  0.116181  0.112495   \n",
       "2        88973  0.114841  0.115176  0.116516  0.114506  0.114841  0.112830   \n",
       "3        88974  0.116181  0.117521  0.109144  0.115846  0.115176  0.113165   \n",
       "4        88975  0.114171  0.115511  0.115511  0.115846  0.115846  0.115511   \n",
       "...        ...       ...       ...       ...       ...       ...       ...   \n",
       "10026    98997  0.114506  0.115846  0.115176  0.116851  0.116516  0.114506   \n",
       "10027    98998  0.115511  0.117186  0.116181  0.111490  0.115176  0.115176   \n",
       "10028    98999  0.113835  0.110485  0.114841  0.115511  0.114506  0.112160   \n",
       "10029    99000  0.114171  0.112830  0.114506  0.114841  0.115176  0.115176   \n",
       "10030    99001  0.115176  0.115511  0.115846  0.114506  0.114506  0.115511   \n",
       "\n",
       "        Column8   Column9  Column10  Column11   Average  \n",
       "0      0.114841  0.115846  0.114841  0.115511  0.115578  \n",
       "1      0.115176  0.117521  0.114841  0.111825  0.114874  \n",
       "2      0.116516  0.114506  0.115511  0.114506  0.114975  \n",
       "3      0.113500  0.113500  0.115511  0.116851  0.114639  \n",
       "4      0.115846  0.114171  0.110820  0.116181  0.114941  \n",
       "...         ...       ...       ...       ...       ...  \n",
       "10026  0.116181  0.115176  0.115846  0.115846  0.115645  \n",
       "10027  0.116181  0.116181  0.113835  0.112160  0.114908  \n",
       "10028  0.114506  0.115176  0.114506  0.116516  0.114204  \n",
       "10029  0.106128  0.116516  0.114506  0.118191  0.114204  \n",
       "10030  0.115176  0.114841  0.114506  0.116851  0.115243  \n",
       "\n",
       "[10031 rows x 12 columns]"
      ]
     },
     "execution_count": 3,
     "metadata": {},
     "output_type": "execute_result"
    }
   ],
   "source": [
    "df"
   ]
  },
  {
   "cell_type": "code",
   "execution_count": 4,
   "metadata": {},
   "outputs": [],
   "source": [
    "# relabel data columns\n",
    "for i in range(0,12):\n",
    "    if i == 0:\n",
    "        df.rename(columns = {i:'Wavenumber'}, inplace = True)\n",
    "    else:\n",
    "        df.rename(columns = {i:'Sample'+str(i)}, inplace = True)"
   ]
  },
  {
   "cell_type": "code",
   "execution_count": 5,
   "metadata": {},
   "outputs": [
    {
     "data": {
      "text/html": [
       "<div>\n",
       "<style scoped>\n",
       "    .dataframe tbody tr th:only-of-type {\n",
       "        vertical-align: middle;\n",
       "    }\n",
       "\n",
       "    .dataframe tbody tr th {\n",
       "        vertical-align: top;\n",
       "    }\n",
       "\n",
       "    .dataframe thead th {\n",
       "        text-align: right;\n",
       "    }\n",
       "</style>\n",
       "<table border=\"1\" class=\"dataframe\">\n",
       "  <thead>\n",
       "    <tr style=\"text-align: right;\">\n",
       "      <th></th>\n",
       "      <th>Column1</th>\n",
       "      <th>Column2</th>\n",
       "      <th>Column3</th>\n",
       "      <th>Column4</th>\n",
       "      <th>Column5</th>\n",
       "      <th>Column6</th>\n",
       "      <th>Column7</th>\n",
       "      <th>Column8</th>\n",
       "      <th>Column9</th>\n",
       "      <th>Column10</th>\n",
       "      <th>Column11</th>\n",
       "      <th>Average</th>\n",
       "    </tr>\n",
       "  </thead>\n",
       "  <tbody>\n",
       "    <tr>\n",
       "      <th>0</th>\n",
       "      <td>88971</td>\n",
       "      <td>0.115846</td>\n",
       "      <td>0.117186</td>\n",
       "      <td>0.115176</td>\n",
       "      <td>0.115846</td>\n",
       "      <td>0.115511</td>\n",
       "      <td>0.115176</td>\n",
       "      <td>0.114841</td>\n",
       "      <td>0.115846</td>\n",
       "      <td>0.114841</td>\n",
       "      <td>0.115511</td>\n",
       "      <td>0.115578</td>\n",
       "    </tr>\n",
       "    <tr>\n",
       "      <th>1</th>\n",
       "      <td>88972</td>\n",
       "      <td>0.113835</td>\n",
       "      <td>0.115511</td>\n",
       "      <td>0.114841</td>\n",
       "      <td>0.116516</td>\n",
       "      <td>0.116181</td>\n",
       "      <td>0.112495</td>\n",
       "      <td>0.115176</td>\n",
       "      <td>0.117521</td>\n",
       "      <td>0.114841</td>\n",
       "      <td>0.111825</td>\n",
       "      <td>0.114874</td>\n",
       "    </tr>\n",
       "    <tr>\n",
       "      <th>2</th>\n",
       "      <td>88973</td>\n",
       "      <td>0.114841</td>\n",
       "      <td>0.115176</td>\n",
       "      <td>0.116516</td>\n",
       "      <td>0.114506</td>\n",
       "      <td>0.114841</td>\n",
       "      <td>0.112830</td>\n",
       "      <td>0.116516</td>\n",
       "      <td>0.114506</td>\n",
       "      <td>0.115511</td>\n",
       "      <td>0.114506</td>\n",
       "      <td>0.114975</td>\n",
       "    </tr>\n",
       "    <tr>\n",
       "      <th>3</th>\n",
       "      <td>88974</td>\n",
       "      <td>0.116181</td>\n",
       "      <td>0.117521</td>\n",
       "      <td>0.109144</td>\n",
       "      <td>0.115846</td>\n",
       "      <td>0.115176</td>\n",
       "      <td>0.113165</td>\n",
       "      <td>0.113500</td>\n",
       "      <td>0.113500</td>\n",
       "      <td>0.115511</td>\n",
       "      <td>0.116851</td>\n",
       "      <td>0.114639</td>\n",
       "    </tr>\n",
       "    <tr>\n",
       "      <th>4</th>\n",
       "      <td>88975</td>\n",
       "      <td>0.114171</td>\n",
       "      <td>0.115511</td>\n",
       "      <td>0.115511</td>\n",
       "      <td>0.115846</td>\n",
       "      <td>0.115846</td>\n",
       "      <td>0.115511</td>\n",
       "      <td>0.115846</td>\n",
       "      <td>0.114171</td>\n",
       "      <td>0.110820</td>\n",
       "      <td>0.116181</td>\n",
       "      <td>0.114941</td>\n",
       "    </tr>\n",
       "    <tr>\n",
       "      <th>...</th>\n",
       "      <td>...</td>\n",
       "      <td>...</td>\n",
       "      <td>...</td>\n",
       "      <td>...</td>\n",
       "      <td>...</td>\n",
       "      <td>...</td>\n",
       "      <td>...</td>\n",
       "      <td>...</td>\n",
       "      <td>...</td>\n",
       "      <td>...</td>\n",
       "      <td>...</td>\n",
       "      <td>...</td>\n",
       "    </tr>\n",
       "    <tr>\n",
       "      <th>10026</th>\n",
       "      <td>98997</td>\n",
       "      <td>0.114506</td>\n",
       "      <td>0.115846</td>\n",
       "      <td>0.115176</td>\n",
       "      <td>0.116851</td>\n",
       "      <td>0.116516</td>\n",
       "      <td>0.114506</td>\n",
       "      <td>0.116181</td>\n",
       "      <td>0.115176</td>\n",
       "      <td>0.115846</td>\n",
       "      <td>0.115846</td>\n",
       "      <td>0.115645</td>\n",
       "    </tr>\n",
       "    <tr>\n",
       "      <th>10027</th>\n",
       "      <td>98998</td>\n",
       "      <td>0.115511</td>\n",
       "      <td>0.117186</td>\n",
       "      <td>0.116181</td>\n",
       "      <td>0.111490</td>\n",
       "      <td>0.115176</td>\n",
       "      <td>0.115176</td>\n",
       "      <td>0.116181</td>\n",
       "      <td>0.116181</td>\n",
       "      <td>0.113835</td>\n",
       "      <td>0.112160</td>\n",
       "      <td>0.114908</td>\n",
       "    </tr>\n",
       "    <tr>\n",
       "      <th>10028</th>\n",
       "      <td>98999</td>\n",
       "      <td>0.113835</td>\n",
       "      <td>0.110485</td>\n",
       "      <td>0.114841</td>\n",
       "      <td>0.115511</td>\n",
       "      <td>0.114506</td>\n",
       "      <td>0.112160</td>\n",
       "      <td>0.114506</td>\n",
       "      <td>0.115176</td>\n",
       "      <td>0.114506</td>\n",
       "      <td>0.116516</td>\n",
       "      <td>0.114204</td>\n",
       "    </tr>\n",
       "    <tr>\n",
       "      <th>10029</th>\n",
       "      <td>99000</td>\n",
       "      <td>0.114171</td>\n",
       "      <td>0.112830</td>\n",
       "      <td>0.114506</td>\n",
       "      <td>0.114841</td>\n",
       "      <td>0.115176</td>\n",
       "      <td>0.115176</td>\n",
       "      <td>0.106128</td>\n",
       "      <td>0.116516</td>\n",
       "      <td>0.114506</td>\n",
       "      <td>0.118191</td>\n",
       "      <td>0.114204</td>\n",
       "    </tr>\n",
       "    <tr>\n",
       "      <th>10030</th>\n",
       "      <td>99001</td>\n",
       "      <td>0.115176</td>\n",
       "      <td>0.115511</td>\n",
       "      <td>0.115846</td>\n",
       "      <td>0.114506</td>\n",
       "      <td>0.114506</td>\n",
       "      <td>0.115511</td>\n",
       "      <td>0.115176</td>\n",
       "      <td>0.114841</td>\n",
       "      <td>0.114506</td>\n",
       "      <td>0.116851</td>\n",
       "      <td>0.115243</td>\n",
       "    </tr>\n",
       "  </tbody>\n",
       "</table>\n",
       "<p>10031 rows × 12 columns</p>\n",
       "</div>"
      ],
      "text/plain": [
       "       Column1   Column2   Column3   Column4   Column5   Column6   Column7  \\\n",
       "0        88971  0.115846  0.117186  0.115176  0.115846  0.115511  0.115176   \n",
       "1        88972  0.113835  0.115511  0.114841  0.116516  0.116181  0.112495   \n",
       "2        88973  0.114841  0.115176  0.116516  0.114506  0.114841  0.112830   \n",
       "3        88974  0.116181  0.117521  0.109144  0.115846  0.115176  0.113165   \n",
       "4        88975  0.114171  0.115511  0.115511  0.115846  0.115846  0.115511   \n",
       "...        ...       ...       ...       ...       ...       ...       ...   \n",
       "10026    98997  0.114506  0.115846  0.115176  0.116851  0.116516  0.114506   \n",
       "10027    98998  0.115511  0.117186  0.116181  0.111490  0.115176  0.115176   \n",
       "10028    98999  0.113835  0.110485  0.114841  0.115511  0.114506  0.112160   \n",
       "10029    99000  0.114171  0.112830  0.114506  0.114841  0.115176  0.115176   \n",
       "10030    99001  0.115176  0.115511  0.115846  0.114506  0.114506  0.115511   \n",
       "\n",
       "        Column8   Column9  Column10  Column11   Average  \n",
       "0      0.114841  0.115846  0.114841  0.115511  0.115578  \n",
       "1      0.115176  0.117521  0.114841  0.111825  0.114874  \n",
       "2      0.116516  0.114506  0.115511  0.114506  0.114975  \n",
       "3      0.113500  0.113500  0.115511  0.116851  0.114639  \n",
       "4      0.115846  0.114171  0.110820  0.116181  0.114941  \n",
       "...         ...       ...       ...       ...       ...  \n",
       "10026  0.116181  0.115176  0.115846  0.115846  0.115645  \n",
       "10027  0.116181  0.116181  0.113835  0.112160  0.114908  \n",
       "10028  0.114506  0.115176  0.114506  0.116516  0.114204  \n",
       "10029  0.106128  0.116516  0.114506  0.118191  0.114204  \n",
       "10030  0.115176  0.114841  0.114506  0.116851  0.115243  \n",
       "\n",
       "[10031 rows x 12 columns]"
      ]
     },
     "execution_count": 5,
     "metadata": {},
     "output_type": "execute_result"
    }
   ],
   "source": [
    "df"
   ]
  },
  {
   "cell_type": "code",
   "execution_count": 6,
   "metadata": {},
   "outputs": [
    {
     "name": "stderr",
     "output_type": "stream",
     "text": [
      "No handles with labels found to put in legend.\n"
     ]
    },
    {
     "data": {
      "text/plain": [
       "<matplotlib.legend.Legend at 0x7f50679efa00>"
      ]
     },
     "execution_count": 6,
     "metadata": {},
     "output_type": "execute_result"
    },
    {
     "data": {
      "image/png": "[encoded data removed]",
      "text/plain": [
       "<Figure size 1440x360 with 1 Axes>"
      ]
     },
     "metadata": {
      "needs_background": "light"
     },
     "output_type": "display_data"
    }
   ],
   "source": [
    "# plot wavenumber by voltage\n",
    "plt.figure(figsize=(20,5))\n",
    "plt.title(\"Helium Emission Peaks\")\n",
    "plt.plot(df.Column1,-df.Average-(-df.Average).mean(), color='r')\n",
    "# plt.yscale(\"symlog\")\n",
    "plt.ylim(-.03,8) # largest magnitude, lowest magnitude\n",
    "\n",
    "plt.xlim(89000,99000)\n",
    "plt.legend()"
   ]
  },
  {
   "cell_type": "code",
   "execution_count": 7,
   "metadata": {},
   "outputs": [],
   "source": [
    "# get wavenumber for spesific voltage\n",
    "def get_wn(dataframe, val):\n",
    "    array = dataframe.query(f'Average == {val}')\n",
    "    return array"
   ]
  },
  {
   "cell_type": "code",
   "execution_count": 8,
   "metadata": {},
   "outputs": [
    {
     "data": {
      "text/html": [
       "<div>\n",
       "<style scoped>\n",
       "    .dataframe tbody tr th:only-of-type {\n",
       "        vertical-align: middle;\n",
       "    }\n",
       "\n",
       "    .dataframe tbody tr th {\n",
       "        vertical-align: top;\n",
       "    }\n",
       "\n",
       "    .dataframe thead th {\n",
       "        text-align: right;\n",
       "    }\n",
       "</style>\n",
       "<table border=\"1\" class=\"dataframe\">\n",
       "  <thead>\n",
       "    <tr style=\"text-align: right;\">\n",
       "      <th></th>\n",
       "      <th>Column1</th>\n",
       "      <th>Column2</th>\n",
       "      <th>Column3</th>\n",
       "      <th>Column4</th>\n",
       "      <th>Column5</th>\n",
       "      <th>Column6</th>\n",
       "      <th>Column7</th>\n",
       "      <th>Column8</th>\n",
       "      <th>Column9</th>\n",
       "      <th>Column10</th>\n",
       "      <th>Column11</th>\n",
       "      <th>Average</th>\n",
       "    </tr>\n",
       "  </thead>\n",
       "  <tbody>\n",
       "    <tr>\n",
       "      <th>2842</th>\n",
       "      <td>91813</td>\n",
       "      <td>-10.208469</td>\n",
       "      <td>-10.208469</td>\n",
       "      <td>-10.208469</td>\n",
       "      <td>-10.208469</td>\n",
       "      <td>-10.208469</td>\n",
       "      <td>-10.208469</td>\n",
       "      <td>-10.208469</td>\n",
       "      <td>-10.208469</td>\n",
       "      <td>-10.208469</td>\n",
       "      <td>-10.208469</td>\n",
       "      <td>-10.208469</td>\n",
       "    </tr>\n",
       "    <tr>\n",
       "      <th>2844</th>\n",
       "      <td>91815</td>\n",
       "      <td>-10.208469</td>\n",
       "      <td>-10.208469</td>\n",
       "      <td>-10.208469</td>\n",
       "      <td>-10.208469</td>\n",
       "      <td>-10.208469</td>\n",
       "      <td>-10.208469</td>\n",
       "      <td>-10.208469</td>\n",
       "      <td>-10.208469</td>\n",
       "      <td>-10.208469</td>\n",
       "      <td>-10.208469</td>\n",
       "      <td>-10.208469</td>\n",
       "    </tr>\n",
       "    <tr>\n",
       "      <th>2845</th>\n",
       "      <td>91816</td>\n",
       "      <td>-10.208469</td>\n",
       "      <td>-10.208469</td>\n",
       "      <td>-10.208469</td>\n",
       "      <td>-10.208469</td>\n",
       "      <td>-10.208469</td>\n",
       "      <td>-10.208469</td>\n",
       "      <td>-10.208469</td>\n",
       "      <td>-10.208469</td>\n",
       "      <td>-10.208469</td>\n",
       "      <td>-10.208469</td>\n",
       "      <td>-10.208469</td>\n",
       "    </tr>\n",
       "  </tbody>\n",
       "</table>\n",
       "</div>"
      ],
      "text/plain": [
       "      Column1    Column2    Column3    Column4    Column5    Column6  \\\n",
       "2842    91813 -10.208469 -10.208469 -10.208469 -10.208469 -10.208469   \n",
       "2844    91815 -10.208469 -10.208469 -10.208469 -10.208469 -10.208469   \n",
       "2845    91816 -10.208469 -10.208469 -10.208469 -10.208469 -10.208469   \n",
       "\n",
       "        Column7    Column8    Column9   Column10   Column11    Average  \n",
       "2842 -10.208469 -10.208469 -10.208469 -10.208469 -10.208469 -10.208469  \n",
       "2844 -10.208469 -10.208469 -10.208469 -10.208469 -10.208469 -10.208469  \n",
       "2845 -10.208469 -10.208469 -10.208469 -10.208469 -10.208469 -10.208469  "
      ]
     },
     "execution_count": 8,
     "metadata": {},
     "output_type": "execute_result"
    }
   ],
   "source": [
    "# getting the largest magnitude value wavenumber\n",
    "lm_val= df.Average.min()\n",
    "get_wn(df, lm_val)"
   ]
  },
  {
   "cell_type": "code",
   "execution_count": 9,
   "metadata": {},
   "outputs": [
    {
     "data": {
      "text/html": [
       "<div>\n",
       "<style scoped>\n",
       "    .dataframe tbody tr th:only-of-type {\n",
       "        vertical-align: middle;\n",
       "    }\n",
       "\n",
       "    .dataframe tbody tr th {\n",
       "        vertical-align: top;\n",
       "    }\n",
       "\n",
       "    .dataframe thead th {\n",
       "        text-align: right;\n",
       "    }\n",
       "</style>\n",
       "<table border=\"1\" class=\"dataframe\">\n",
       "  <thead>\n",
       "    <tr style=\"text-align: right;\">\n",
       "      <th></th>\n",
       "      <th>Column1</th>\n",
       "      <th>Column2</th>\n",
       "      <th>Column3</th>\n",
       "      <th>Column4</th>\n",
       "      <th>Column5</th>\n",
       "      <th>Column6</th>\n",
       "      <th>Column7</th>\n",
       "      <th>Column8</th>\n",
       "      <th>Column9</th>\n",
       "      <th>Column10</th>\n",
       "      <th>Column11</th>\n",
       "      <th>Average</th>\n",
       "    </tr>\n",
       "  </thead>\n",
       "  <tbody>\n",
       "    <tr>\n",
       "      <th>8042</th>\n",
       "      <td>97013</td>\n",
       "      <td>0.115511</td>\n",
       "      <td>0.117856</td>\n",
       "      <td>0.116181</td>\n",
       "      <td>0.117186</td>\n",
       "      <td>0.115511</td>\n",
       "      <td>0.116851</td>\n",
       "      <td>0.115846</td>\n",
       "      <td>0.117856</td>\n",
       "      <td>0.116516</td>\n",
       "      <td>0.116516</td>\n",
       "      <td>0.116583</td>\n",
       "    </tr>\n",
       "  </tbody>\n",
       "</table>\n",
       "</div>"
      ],
      "text/plain": [
       "      Column1   Column2   Column3   Column4   Column5   Column6   Column7  \\\n",
       "8042    97013  0.115511  0.117856  0.116181  0.117186  0.115511  0.116851   \n",
       "\n",
       "       Column8   Column9  Column10  Column11   Average  \n",
       "8042  0.115846  0.117856  0.116516  0.116516  0.116583  "
      ]
     },
     "execution_count": 9,
     "metadata": {},
     "output_type": "execute_result"
    }
   ],
   "source": [
    "# getting the smallest magnitude value wavenumber\n",
    "sm_val= df.Average.max()\n",
    "get_wn(df, sm_val)"
   ]
  },
  {
   "cell_type": "code",
   "execution_count": 10,
   "metadata": {},
   "outputs": [],
   "source": [
    "x =-df.Average-(-df.Average).mean()"
   ]
  },
  {
   "cell_type": "code",
   "execution_count": 11,
   "metadata": {},
   "outputs": [
    {
     "data": {
      "image/png": "[encoded data removed]",
      "text/plain": [
       "<Figure size 432x288 with 1 Axes>"
      ]
     },
     "metadata": {
      "needs_background": "light"
     },
     "output_type": "display_data"
    }
   ],
   "source": [
    "peaks, f = find_peaks(x, height=0.05)\n",
    "plt.title(\"Helium Emission Peaks\")\n",
    "plt.plot(df.Column1, x)\n",
    "plt.plot(peaks+df.Column1.min(), x[peaks], \"x\")\n",
    "plt.plot(np.zeros_like(x), \"--\", color=\"gray\")\n",
    "plt.yscale('symlog')\n",
    "plt.xlim(89000,99000)\n",
    "# plt.ylim(0.01,.5)\n",
    "plt.show()"
   ]
  },
  {
   "cell_type": "code",
   "execution_count": 12,
   "metadata": {},
   "outputs": [
    {
     "data": {
      "text/plain": [
       "{'peak_heights': array([ 0.69426263,  3.47004183, 10.28363623, 10.29995473, 10.29995473,\n",
       "         0.11756783,  0.12723433,  5.80342623,  5.76336713,  5.41802513,\n",
       "         1.04013103,  1.08656043,  0.99487533,  0.47207283,  0.45195403,\n",
       "         1.44055563,  1.41674593])}"
      ]
     },
     "execution_count": 12,
     "metadata": {},
     "output_type": "execute_result"
    }
   ],
   "source": [
    "f"
   ]
  },
  {
   "cell_type": "code",
   "execution_count": 13,
   "metadata": {},
   "outputs": [],
   "source": [
    "peak_data= {}\n",
    "a = []\n",
    "l = []\n",
    "for p in peaks:\n",
    "    if x[p] >df.Average.mean():\n",
    "        a.append(p+df.Column1.min())\n",
    "        l.append(x[p])\n",
    "peak_data['Wavenumber'] = a\n",
    "peak_data['Voltage'] = l\n",
    "df2 = pd.DataFrame(peak_data)"
   ]
  },
  {
   "cell_type": "code",
   "execution_count": 14,
   "metadata": {},
   "outputs": [
    {
     "data": {
      "text/html": [
       "<div>\n",
       "<style scoped>\n",
       "    .dataframe tbody tr th:only-of-type {\n",
       "        vertical-align: middle;\n",
       "    }\n",
       "\n",
       "    .dataframe tbody tr th {\n",
       "        vertical-align: top;\n",
       "    }\n",
       "\n",
       "    .dataframe thead th {\n",
       "        text-align: right;\n",
       "    }\n",
       "</style>\n",
       "<table border=\"1\" class=\"dataframe\">\n",
       "  <thead>\n",
       "    <tr style=\"text-align: right;\">\n",
       "      <th></th>\n",
       "      <th>Wavenumber</th>\n",
       "      <th>Voltage</th>\n",
       "    </tr>\n",
       "  </thead>\n",
       "  <tbody>\n",
       "    <tr>\n",
       "      <th>0</th>\n",
       "      <td>89483</td>\n",
       "      <td>0.694263</td>\n",
       "    </tr>\n",
       "    <tr>\n",
       "      <th>1</th>\n",
       "      <td>90160</td>\n",
       "      <td>3.470042</td>\n",
       "    </tr>\n",
       "    <tr>\n",
       "      <th>2</th>\n",
       "      <td>91810</td>\n",
       "      <td>10.283636</td>\n",
       "    </tr>\n",
       "    <tr>\n",
       "      <th>3</th>\n",
       "      <td>91813</td>\n",
       "      <td>10.299955</td>\n",
       "    </tr>\n",
       "    <tr>\n",
       "      <th>4</th>\n",
       "      <td>91815</td>\n",
       "      <td>10.299955</td>\n",
       "    </tr>\n",
       "    <tr>\n",
       "      <th>5</th>\n",
       "      <td>94015</td>\n",
       "      <td>0.117568</td>\n",
       "    </tr>\n",
       "    <tr>\n",
       "      <th>6</th>\n",
       "      <td>94018</td>\n",
       "      <td>0.127234</td>\n",
       "    </tr>\n",
       "    <tr>\n",
       "      <th>7</th>\n",
       "      <td>94115</td>\n",
       "      <td>5.803426</td>\n",
       "    </tr>\n",
       "    <tr>\n",
       "      <th>8</th>\n",
       "      <td>94117</td>\n",
       "      <td>5.763367</td>\n",
       "    </tr>\n",
       "    <tr>\n",
       "      <th>9</th>\n",
       "      <td>94119</td>\n",
       "      <td>5.418025</td>\n",
       "    </tr>\n",
       "    <tr>\n",
       "      <th>10</th>\n",
       "      <td>94408</td>\n",
       "      <td>1.040131</td>\n",
       "    </tr>\n",
       "    <tr>\n",
       "      <th>11</th>\n",
       "      <td>94411</td>\n",
       "      <td>1.086560</td>\n",
       "    </tr>\n",
       "    <tr>\n",
       "      <th>12</th>\n",
       "      <td>94413</td>\n",
       "      <td>0.994875</td>\n",
       "    </tr>\n",
       "    <tr>\n",
       "      <th>13</th>\n",
       "      <td>95104</td>\n",
       "      <td>0.472073</td>\n",
       "    </tr>\n",
       "    <tr>\n",
       "      <th>14</th>\n",
       "      <td>95106</td>\n",
       "      <td>0.451954</td>\n",
       "    </tr>\n",
       "    <tr>\n",
       "      <th>15</th>\n",
       "      <td>95975</td>\n",
       "      <td>1.440556</td>\n",
       "    </tr>\n",
       "    <tr>\n",
       "      <th>16</th>\n",
       "      <td>95978</td>\n",
       "      <td>1.416746</td>\n",
       "    </tr>\n",
       "  </tbody>\n",
       "</table>\n",
       "</div>"
      ],
      "text/plain": [
       "    Wavenumber    Voltage\n",
       "0        89483   0.694263\n",
       "1        90160   3.470042\n",
       "2        91810  10.283636\n",
       "3        91813  10.299955\n",
       "4        91815  10.299955\n",
       "5        94015   0.117568\n",
       "6        94018   0.127234\n",
       "7        94115   5.803426\n",
       "8        94117   5.763367\n",
       "9        94119   5.418025\n",
       "10       94408   1.040131\n",
       "11       94411   1.086560\n",
       "12       94413   0.994875\n",
       "13       95104   0.472073\n",
       "14       95106   0.451954\n",
       "15       95975   1.440556\n",
       "16       95978   1.416746"
      ]
     },
     "execution_count": 14,
     "metadata": {},
     "output_type": "execute_result"
    }
   ],
   "source": [
    "df2"
   ]
  },
  {
   "cell_type": "code",
   "execution_count": 15,
   "metadata": {},
   "outputs": [
    {
     "data": {
      "text/html": [
       "<div>\n",
       "<style scoped>\n",
       "    .dataframe tbody tr th:only-of-type {\n",
       "        vertical-align: middle;\n",
       "    }\n",
       "\n",
       "    .dataframe tbody tr th {\n",
       "        vertical-align: top;\n",
       "    }\n",
       "\n",
       "    .dataframe thead th {\n",
       "        text-align: right;\n",
       "    }\n",
       "</style>\n",
       "<table border=\"1\" class=\"dataframe\">\n",
       "  <thead>\n",
       "    <tr style=\"text-align: right;\">\n",
       "      <th></th>\n",
       "      <th>Wavenumber</th>\n",
       "      <th>Intensity</th>\n",
       "    </tr>\n",
       "  </thead>\n",
       "  <tbody>\n",
       "    <tr>\n",
       "      <th>0</th>\n",
       "      <td>41921.69028</td>\n",
       "      <td>7</td>\n",
       "    </tr>\n",
       "    <tr>\n",
       "      <th>1</th>\n",
       "      <td>39821.59924</td>\n",
       "      <td>9</td>\n",
       "    </tr>\n",
       "    <tr>\n",
       "      <th>2</th>\n",
       "      <td>36721.63896</td>\n",
       "      <td>1</td>\n",
       "    </tr>\n",
       "    <tr>\n",
       "      <th>3</th>\n",
       "      <td>36585.81202</td>\n",
       "      <td>12</td>\n",
       "    </tr>\n",
       "    <tr>\n",
       "      <th>4</th>\n",
       "      <td>36182.06817</td>\n",
       "      <td>2</td>\n",
       "    </tr>\n",
       "  </tbody>\n",
       "</table>\n",
       "</div>"
      ],
      "text/plain": [
       "    Wavenumber  Intensity\n",
       "0  41921.69028          7\n",
       "1  39821.59924          9\n",
       "2  36721.63896          1\n",
       "3  36585.81202         12\n",
       "4  36182.06817          2"
      ]
     },
     "execution_count": 15,
     "metadata": {},
     "output_type": "execute_result"
    }
   ],
   "source": [
    "he = pd.read_csv('clean_helium_data - Sheet1.csv')\n",
    "he.head()"
   ]
  },
  {
   "cell_type": "code",
   "execution_count": 16,
   "metadata": {},
   "outputs": [
    {
     "name": "stderr",
     "output_type": "stream",
     "text": [
      "No handles with labels found to put in legend.\n"
     ]
    },
    {
     "data": {
      "text/plain": [
       "<matplotlib.legend.Legend at 0x7f505be8edc0>"
      ]
     },
     "execution_count": 16,
     "metadata": {},
     "output_type": "execute_result"
    },
    {
     "data": {
      "image/png": "[encoded data removed]",
      "text/plain": [
       "<Figure size 1440x720 with 2 Axes>"
      ]
     },
     "metadata": {
      "needs_background": "light"
     },
     "output_type": "display_data"
    }
   ],
   "source": [
    "# plot wavenumber by voltage\n",
    "plt.figure(figsize=(20,10))\n",
    "\n",
    "plt.subplot(211)\n",
    "# sns.barplot(x='Wavenumber',y='Intensity', data=he)\n",
    "barplot = sns.barplot(x='Wavenumber'\n",
    "                      ,y='Intensity'\n",
    "                      ,data=he\n",
    "                      ,ci=None\n",
    "                      ,palette = 'Spectral'\n",
    "                      )\n",
    "barplot.set_xticklabels(barplot.get_xticklabels(), rotation=90, fontsize=10)\n",
    "barplot.figure\n",
    "\n",
    "\n",
    "plt.subplot(212)\n",
    "plt.title(\"Helium Emission Peaks\")\n",
    "plt.plot(df.Column1,-df.Average-(-df.Average).mean(), color='r')\n",
    "# plt.yscale(\"symlog\")\n",
    "plt.ylim(-.03,0.8) # largest magnitude, lowest magnitude\n",
    "\n",
    "plt.xlim(89000,99000)\n",
    "plt.legend()"
   ]
  },
  {
   "cell_type": "code",
   "execution_count": 17,
   "metadata": {},
   "outputs": [],
   "source": [
    "measured = [89483, 90160, 91813, 94115, 94411,95104,95975]\n",
    "physical = [4858.782641, 5351.789157,9233.320638, 17019.08556, 19937.4803 ,22363.96503, 95714.87268 ]"
   ]
  },
  {
   "cell_type": "code",
   "execution_count": 18,
   "metadata": {},
   "outputs": [],
   "source": [
    "# m, b, r_value, p_value, std_err = stats.linregress(measured, physical)\n",
    "# m, b, r_value, p_value, std_err"
   ]
  },
  {
   "cell_type": "markdown",
   "metadata": {},
   "source": [
    "From here we guess as to the actual "
   ]
  },
  {
   "cell_type": "code",
   "execution_count": 19,
   "metadata": {},
   "outputs": [
    {
     "data": {
      "text/html": [
       "<div>\n",
       "<style scoped>\n",
       "    .dataframe tbody tr th:only-of-type {\n",
       "        vertical-align: middle;\n",
       "    }\n",
       "\n",
       "    .dataframe tbody tr th {\n",
       "        vertical-align: top;\n",
       "    }\n",
       "\n",
       "    .dataframe thead th {\n",
       "        text-align: right;\n",
       "    }\n",
       "</style>\n",
       "<table border=\"1\" class=\"dataframe\">\n",
       "  <thead>\n",
       "    <tr style=\"text-align: right;\">\n",
       "      <th></th>\n",
       "      <th>wavenumber</th>\n",
       "      <th>actual</th>\n",
       "    </tr>\n",
       "  </thead>\n",
       "  <tbody>\n",
       "    <tr>\n",
       "      <th>0</th>\n",
       "      <td>89483</td>\n",
       "      <td>14149.99000</td>\n",
       "    </tr>\n",
       "    <tr>\n",
       "      <th>1</th>\n",
       "      <td>90159</td>\n",
       "      <td>14974.20312</td>\n",
       "    </tr>\n",
       "    <tr>\n",
       "      <th>2</th>\n",
       "      <td>91813</td>\n",
       "      <td>17019.42257</td>\n",
       "    </tr>\n",
       "    <tr>\n",
       "      <th>3</th>\n",
       "      <td>94018</td>\n",
       "      <td>19810.84604</td>\n",
       "    </tr>\n",
       "    <tr>\n",
       "      <th>4</th>\n",
       "      <td>94115</td>\n",
       "      <td>19937.48403</td>\n",
       "    </tr>\n",
       "  </tbody>\n",
       "</table>\n",
       "</div>"
      ],
      "text/plain": [
       "   wavenumber       actual\n",
       "0       89483  14149.99000\n",
       "1       90159  14974.20312\n",
       "2       91813  17019.42257\n",
       "3       94018  19810.84604\n",
       "4       94115  19937.48403"
      ]
     },
     "execution_count": 19,
     "metadata": {},
     "output_type": "execute_result"
    }
   ],
   "source": [
    "guess = pd.read_csv('guess2.txt', delimiter='\\t')\n",
    "guess.head()"
   ]
  },
  {
   "cell_type": "code",
   "execution_count": 20,
   "metadata": {},
   "outputs": [
    {
     "data": {
      "text/plain": [
       "array([ 1.26224047e+00, -9.88346515e+04])"
      ]
     },
     "execution_count": 20,
     "metadata": {},
     "output_type": "execute_result"
    }
   ],
   "source": [
    "np.polyfit(guess.wavenumber,guess.actual,1)"
   ]
  },
  {
   "cell_type": "code",
   "execution_count": 21,
   "metadata": {},
   "outputs": [
    {
     "data": {
      "text/plain": [
       "(1.2622404665723173,\n",
       " -98834.65147159612,\n",
       " 0.999941328421356,\n",
       " 5.048986610814416e-13,\n",
       " 0.005582316679307243)"
      ]
     },
     "execution_count": 21,
     "metadata": {},
     "output_type": "execute_result"
    }
   ],
   "source": [
    "m, b, r_value, p_value, std_err = stats.linregress(guess.wavenumber, guess.actual)\n",
    "m, b, r_value, p_value, std_err"
   ]
  },
  {
   "cell_type": "code",
   "execution_count": 22,
   "metadata": {},
   "outputs": [],
   "source": [
    "# def make_into_measured_wn(wn, m, b):\n",
    "#     return (wn-b)/m"
   ]
  },
  {
   "cell_type": "code",
   "execution_count": 23,
   "metadata": {},
   "outputs": [],
   "source": [
    "def make_into_measured_wn(array, dataframe):\n",
    "    results = np.polyfit(dataframe.wavenumber,dataframe.actual,2)\n",
    "#     m2 = results[0]\n",
    "# #     m1 = results[1]\n",
    "#     b = results[1]\n",
    "    return m*array +b"
   ]
  },
  {
   "cell_type": "code",
   "execution_count": 24,
   "metadata": {},
   "outputs": [
    {
     "data": {
      "text/plain": [
       "0    -45919.397573\n",
       "1    -48570.217467\n",
       "2    -52483.112777\n",
       "3    -52654.559038\n",
       "4    -53164.180863\n",
       "          ...     \n",
       "94   -92858.153919\n",
       "95   -92858.538743\n",
       "96   -92861.536410\n",
       "97   -94750.854242\n",
       "98   -95716.383766\n",
       "Name: Wavenumber, Length: 99, dtype: float64"
      ]
     },
     "execution_count": 24,
     "metadata": {},
     "output_type": "execute_result"
    }
   ],
   "source": [
    "make_into_measured_wn(he.Wavenumber,guess)"
   ]
  },
  {
   "cell_type": "code",
   "execution_count": 25,
   "metadata": {},
   "outputs": [
    {
     "name": "stderr",
     "output_type": "stream",
     "text": [
      "No handles with labels found to put in legend.\n"
     ]
    },
    {
     "data": {
      "text/plain": [
       "<matplotlib.legend.Legend at 0x7f505b73f970>"
      ]
     },
     "execution_count": 25,
     "metadata": {},
     "output_type": "execute_result"
    },
    {
     "data": {
      "image/png": "[encoded data removed]",
      "text/plain": [
       "<Figure size 720x720 with 1 Axes>"
      ]
     },
     "metadata": {
      "needs_background": "light"
     },
     "output_type": "display_data"
    }
   ],
   "source": [
    "# plot wavenumber by voltage\n",
    "plt.figure(figsize=(10,10))\n",
    "\n",
    "plt.scatter((he.Wavenumber+98835)/1.2622, he.Intensity)\n",
    "plt.xlim(89000,99000)\n",
    "\n",
    "plt.title(\"Helium Emission Peaks\")\n",
    "plt.plot(df.Column1,(-df.Average-(-df.Average).mean())*100, color='r')\n",
    "# plt.yscale(\"symlog\")\n",
    "# plt.ylim(-.03,0.8) # largest magnitude, lowest magnitude\n",
    "\n",
    "plt.xlim(89000,99000)\n",
    "plt.legend()"
   ]
  },
  {
   "cell_type": "code",
   "execution_count": 26,
   "metadata": {},
   "outputs": [
    {
     "name": "stderr",
     "output_type": "stream",
     "text": [
      "No handles with labels found to put in legend.\n"
     ]
    },
    {
     "data": {
      "text/plain": [
       "<matplotlib.legend.Legend at 0x7f505bb25490>"
      ]
     },
     "execution_count": 26,
     "metadata": {},
     "output_type": "execute_result"
    },
    {
     "data": {
      "image/png": "[encoded data removed]",
      "text/plain": [
       "<Figure size 720x720 with 1 Axes>"
      ]
     },
     "metadata": {
      "needs_background": "light"
     },
     "output_type": "display_data"
    }
   ],
   "source": [
    "# plot wavenumber by voltage\n",
    "plt.figure(figsize=(10,10))\n",
    "\n",
    "plt.scatter(he.Wavenumber, he.Intensity)\n",
    "\n",
    "\n",
    "plt.title(\"Helium Emission Peaks\")\n",
    "plt.plot(df.Column1*1.2622-98835,(-df.Average-(-df.Average).mean())*100, color='r')\n",
    "# plt.yscale(\"symlog\")\n",
    "# plt.ylim(-.03,0.8) # largest magnitude, lowest magnitude\n",
    "\n",
    "\n",
    "plt.legend()"
   ]
  },
  {
   "cell_type": "code",
   "execution_count": 118,
   "metadata": {},
   "outputs": [
    {
     "data": {
      "text/plain": [
       "(89000.0, 96250.0)"
      ]
     },
     "execution_count": 118,
     "metadata": {},
     "output_type": "execute_result"
    },
    {
     "data": {
      "image/png": "[encoded data removed]",
      "text/plain": [
       "<Figure size 864x432 with 2 Axes>"
      ]
     },
     "metadata": {
      "needs_background": "light"
     },
     "output_type": "display_data"
    }
   ],
   "source": [
    "fig, axs = plt.subplots(2, 1, sharex=True, figsize=(12,6),  constrained_layout=True)\n",
    "\n",
    "fig.suptitle(\"Helium Measured vs Actual WN\", fontsize=24)\n",
    "\n",
    "y =  (guess.wavenumber*1.2622-98835)\n",
    "diff = y- guess.actual\n",
    "axs[0].scatter(guess.wavenumber, guess.actual, color='b',  label=\"y={0:.3}x + {1:.4e}, \\n  R = {2:.5f}, STD_error ={3:.5f}\".format(m,b,r_value, std_err))\n",
    "axs[0].errorbar(guess.wavenumber, guess.actual, \n",
    "             xerr = 210.72794551310258,  \n",
    "             yerr = 2796.11179  ,  \n",
    "             fmt ='.',\n",
    "             ecolor='r',\n",
    "             label=\"xerr $\\pm$ 210.7 \\n  yerr $\\pm$ 2796 \")\n",
    "\n",
    "axs[0].grid(True)\n",
    "axs[0].set_ylabel(\"Wavenumber/cm\",fontsize=18)\n",
    "axs[0].legend(prop={'size': 10})\n",
    "\n",
    "axs[0].plot( guess.wavenumber, y, color='g', label=\" 1000 V with Lock-in Amp \\n low delay\")\n",
    "# axs[1].set_ylim(y.min(),0.8) # largest magnitude, lowest magnitude\n",
    "# axs[1].set_xlim(91000,96000)\n",
    "axs[1].errorbar(guess.wavenumber, diff,\n",
    "            xerr = 210.72794551310258,  \n",
    "             yerr =23.99666   ,  \n",
    "             fmt ='o',\n",
    "               ecolor='r',\n",
    "                marker='s', mfc='blue', ms=2, mew=4,\n",
    "                label=\"xerr $\\pm$ 210.7 \\n  yerr $\\pm$ 23.99 \")\n",
    "axs[1].plot(guess.wavenumber, guess.actual*0, color='g')\n",
    "axs[1].plot(guess.wavenumber, diff +47.9933,color='r',linestyle=':', label =\" 95% Confidence interval have residuals between \\n [-44.7313, 51.2554] with a mean of  3.2621 \")\n",
    "axs[1].plot(guess.wavenumber, diff -47.9933,color='r',linestyle=':')\n",
    "#c axs[1].ylabel('Residuals',fontsize=12)\n",
    "# axs[1].xlabel('$\\phi$ in degrees $\\degree$',fontsize=12)\n",
    "axs[1].grid(True)\n",
    "axs[1].set_xlabel(\"Wavenumber/cm\",fontsize=18)\n",
    "axs[1].set_ylabel(\"Residuals\",fontsize=18)\n",
    "axs[1].legend(prop={'size': 10})\n",
    "axs[1].set_xlim(89000,96250)\n"
   ]
  },
  {
   "cell_type": "code",
   "execution_count": 39,
   "metadata": {},
   "outputs": [
    {
     "data": {
      "text/plain": [
       "0   -5.722545\n",
       "1   -5.338087\n",
       "2   -4.544928\n",
       "3   -3.726676\n",
       "4   -3.694987\n",
       "5   -3.602333\n",
       "6   -3.395981\n",
       "7   -3.157130\n",
       "Name: actual, dtype: float64"
      ]
     },
     "execution_count": 39,
     "metadata": {},
     "output_type": "execute_result"
    }
   ],
   "source": [
    "(guess.wavenumber*m+b)/ guess.actual"
   ]
  },
  {
   "cell_type": "code",
   "execution_count": 40,
   "metadata": {},
   "outputs": [],
   "source": [
    "\n",
    "\n",
    "def mean_stu_conf(array):\n",
    "    mean = np.average(array)\n",
    "    N =len(array)\n",
    "    stu = np.std(array)/(N**0.5)\n",
    "    i = mean -2*stu\n",
    "    f = mean +2*stu\n",
    "    s = 2*stu\n",
    "    A = np.around(np.arange(i,f,.00001),5)\n",
    "    results =  \" Mean= {0:.4f} \\n Standard uncertainty= {1:.5f} \\n Confidence Interval = [{2:.4f}, {3:.4f}] \\n x +- 2*stu          = {0:.4f} +- {4:.4f}\".format(mean,stu,i,f,s)\n",
    "    print(results)\n",
    "    print(\" STD = {0:.4f}\".format(np.std(array)))\n",
    "    a = \"Yes\" if 1 in A else \"No\"\n",
    "    print(\"\\n Is conserved: \"+a)\n",
    "    print(\" \\n \")\n",
    "    \n"
   ]
  },
  {
   "cell_type": "code",
   "execution_count": 37,
   "metadata": {},
   "outputs": [
    {
     "name": "stdout",
     "output_type": "stream",
     "text": [
      " Mean= 1.0000 \n",
      " Standard uncertainty= 0.00163 \n",
      " Confidence Interval = [0.9967, 1.0032] \n",
      " x +- 2*stu          = 1.0000 +- 0.0033\n",
      " STD = 0.0016\n",
      "\n",
      " Is conserved: Yes\n",
      " \n",
      " \n"
     ]
    }
   ],
   "source": [
    "a = (guess.wavenumber*m+b)/ guess.actual\n",
    "mean_stu_conf([a])"
   ]
  },
  {
   "cell_type": "code",
   "execution_count": 41,
   "metadata": {},
   "outputs": [
    {
     "name": "stdout",
     "output_type": "stream",
     "text": [
      " Mean= 93134.7500 \n",
      " Standard uncertainty= 2215.06742 \n",
      " Confidence Interval = [88704.6152, 97564.8848] \n",
      " x +- 2*stu          = 93134.7500 +- 4430.1348\n",
      " STD = 2215.0674\n",
      "\n",
      " Is conserved: No\n",
      " \n",
      " \n"
     ]
    }
   ],
   "source": [
    "a =guess.wavenumber\n",
    "mean_stu_conf([a])"
   ]
  },
  {
   "cell_type": "code",
   "execution_count": 42,
   "metadata": {},
   "outputs": [
    {
     "name": "stdout",
     "output_type": "stream",
     "text": [
      " Mean= 18723.7988 \n",
      " Standard uncertainty= 2796.11179 \n",
      " Confidence Interval = [13131.5752, 24316.0224] \n",
      " x +- 2*stu          = 18723.7988 +- 5592.2236\n",
      " STD = 2796.1118\n",
      "\n",
      " Is conserved: No\n",
      " \n",
      " \n"
     ]
    }
   ],
   "source": [
    "a =guess.actual\n",
    "mean_stu_conf([a])"
   ]
  },
  {
   "cell_type": "code",
   "execution_count": 66,
   "metadata": {},
   "outputs": [
    {
     "name": "stdout",
     "output_type": "stream",
     "text": [
      " Mean= 3.2621 \n",
      " Standard uncertainty= 23.99666 \n",
      " Confidence Interval = [-44.7313, 51.2554] \n",
      " x +- 2*stu          = 3.2621 +- 47.9933\n",
      " STD = 23.9967\n",
      "\n",
      " Is conserved: Yes\n",
      " \n",
      " \n"
     ]
    }
   ],
   "source": [
    "\n",
    "a= (guess.actual+98835)/1.2622 -guess.wavenumber\n",
    "mean_stu_conf([a])"
   ]
  },
  {
   "cell_type": "code",
   "execution_count": 47,
   "metadata": {},
   "outputs": [
    {
     "data": {
      "text/plain": [
       "-1670.2254181748895"
      ]
     },
     "execution_count": 47,
     "metadata": {},
     "output_type": "execute_result"
    }
   ],
   "source": [
    "2796.11179/18723.7988 *(13131.5752- 24316.0224)"
   ]
  },
  {
   "cell_type": "code",
   "execution_count": 55,
   "metadata": {},
   "outputs": [
    {
     "data": {
      "text/plain": [
       "210.72794551310258"
      ]
     },
     "execution_count": 55,
     "metadata": {},
     "output_type": "execute_result"
    }
   ],
   "source": [
    "2215.06742/93134.7500 *(97564.8848-88704.6152)"
   ]
  },
  {
   "cell_type": "code",
   "execution_count": 63,
   "metadata": {},
   "outputs": [
    {
     "data": {
      "text/plain": [
       "0.023783468791186962"
      ]
     },
     "execution_count": 63,
     "metadata": {},
     "output_type": "execute_result"
    }
   ],
   "source": [
    "2215.06742 /93134.7500"
   ]
  },
  {
   "cell_type": "code",
   "execution_count": null,
   "metadata": {},
   "outputs": [],
   "source": [
    "93134.7500"
   ]
  },
  {
   "cell_type": "code",
   "execution_count": null,
   "metadata": {},
   "outputs": [],
   "source": []
  },
  {
   "cell_type": "code",
   "execution_count": 119,
   "metadata": {},
   "outputs": [
    {
     "data": {
      "text/plain": [
       "array([ 8.39965905e-06, -2.93137187e-01, -2.68754841e+04])"
      ]
     },
     "execution_count": 119,
     "metadata": {},
     "output_type": "execute_result"
    }
   ],
   "source": [
    "np.polyfit(guess.wavenumber,guess.actual,2)"
   ]
  },
  {
   "cell_type": "code",
   "execution_count": 126,
   "metadata": {},
   "outputs": [
    {
     "name": "stdout",
     "output_type": "stream",
     "text": [
      " Mean= 18723.7989 \n",
      " Standard uncertainty= 2796.11126 \n",
      " Confidence Interval = [13131.5764, 24316.0214] \n",
      " x +- 2*stu          = 18723.7989 +- 5592.2225\n",
      " STD = 2796.1113\n",
      "\n",
      " Is conserved: No\n",
      " \n",
      " \n",
      " Mean= 0.0001 \n",
      " Standard uncertainty= 1.72872 \n",
      " Confidence Interval = [-3.4574, 3.4575] \n",
      " x +- 2*stu          = 0.0001 +- 3.4574\n",
      " STD = 1.7287\n",
      "\n",
      " Is conserved: Yes\n",
      " \n",
      " \n"
     ]
    },
    {
     "data": {
      "text/plain": [
       "(None, None)"
      ]
     },
     "execution_count": 126,
     "metadata": {},
     "output_type": "execute_result"
    }
   ],
   "source": [
    "x=  guess.wavenumber\n",
    "y = 8.39965905e-06*x**2 -2.93137187e-01*x -2.68754841e+04\n",
    "diff = y- guess.actual\n",
    "\n",
    "mean_stu_conf([y]),mean_stu_conf([diff])\n"
   ]
  },
  {
   "cell_type": "code",
   "execution_count": 127,
   "metadata": {},
   "outputs": [
    {
     "data": {
      "text/plain": [
       "(89000.0, 96250.0)"
      ]
     },
     "execution_count": 127,
     "metadata": {},
     "output_type": "execute_result"
    },
    {
     "data": {
      "image/png": "[encoded data removed]",
      "text/plain": [
       "<Figure size 864x432 with 2 Axes>"
      ]
     },
     "metadata": {
      "needs_background": "light"
     },
     "output_type": "display_data"
    }
   ],
   "source": [
    "fig, axs = plt.subplots(2, 1, sharex=True, figsize=(12,6),  constrained_layout=True)\n",
    "\n",
    "fig.suptitle(\"Helium Measured vs Actual WN 2nd degree polynomial\", fontsize=24)\n",
    "x=  guess.wavenumber\n",
    "y = 8.39965905e-06*x**2 -2.93137187e-01*x -2.68754841e+04\n",
    "diff = y- guess.actual\n",
    "axs[0].scatter(x, guess.actual, color='b',  label=\"y={0:.3e}$x^2$ + {1:.4} + {2:.3f}, \\n  R = {3:.5}, STD_error ={4:.5f}\".format(8.39965905e-06,-2.93137187e-01,-2.68754841e+04,r_value, std_err))\n",
    "axs[0].errorbar(x, guess.actual, \n",
    "             xerr = 210.72794551310258,  \n",
    "             yerr = 2796.11179  ,  \n",
    "             fmt ='.',\n",
    "             ecolor='r',\n",
    "             label=\"xerr $\\pm$ 210.7 \\n  yerr $\\pm$ 2796 \")\n",
    "\n",
    "axs[0].grid(True)\n",
    "axs[0].set_ylabel(\"Wavenumber/cm\",fontsize=18)\n",
    "axs[0].legend(prop={'size': 10})\n",
    "\n",
    "axs[0].plot(x, y, color='g', label=\" 1000 V with Lock-in Amp \\n low delay\")\n",
    "# axs[1].set_ylim(y.min(),0.8) # largest magnitude, lowest magnitude\n",
    "# axs[1].set_xlim(91000,96000)\n",
    "axs[1].errorbar(x, diff,\n",
    "            xerr = 210.72794551310258,  \n",
    "             yerr =1.72872   ,  \n",
    "             fmt ='o',\n",
    "               ecolor='r',\n",
    "                marker='s', mfc='blue', ms=2, mew=4,\n",
    "                label=\"xerr $\\pm$ 210.7 \\n  yerr $\\pm$ 1.72872 \")\n",
    "axs[1].plot(x, guess.actual*0, color='g')\n",
    "axs[1].plot(x, diff +3.4574,color='r',linestyle=':', label =\" 95% Confidence interval have residuals between \\n [-3.4574, 3.4575] with a mean of  0.0001 \")\n",
    "axs[1].plot(x, diff -3.4574,color='r',linestyle=':')\n",
    "#c axs[1].ylabel('Residuals',fontsize=12)\n",
    "# axs[1].xlabel('$\\phi$ in degrees $\\degree$',fontsize=12)\n",
    "axs[1].grid(True)\n",
    "axs[1].set_xlabel(\"Wavenumber/cm\",fontsize=18)\n",
    "axs[1].set_ylabel(\"Residuals\",fontsize=18)\n",
    "axs[1].legend(prop={'size': 10})\n",
    "axs[1].set_xlim(89000,96250)\n"
   ]
  },
  {
   "cell_type": "code",
   "execution_count": null,
   "metadata": {},
   "outputs": [],
   "source": []
  }
 ],
 "metadata": {
  "kernelspec": {
   "display_name": "Python 3",
   "language": "python",
   "name": "python3"
  },
  "language_info": {
   "codemirror_mode": {
    "name": "ipython",
    "version": 3
   },
   "file_extension": ".py",
   "mimetype": "text/x-python",
   "name": "python",
   "nbconvert_exporter": "python",
   "pygments_lexer": "ipython3",
   "version": "3.8.3"
  }
 },
 "nbformat": 4,
 "nbformat_minor": 4
}
