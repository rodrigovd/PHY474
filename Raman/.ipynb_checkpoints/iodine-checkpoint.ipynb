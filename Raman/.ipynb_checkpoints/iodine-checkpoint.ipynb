{
 "cells": [
  {
   "cell_type": "markdown",
   "metadata": {},
   "source": [
    "## Helium Pectra Calibration of double monochrometer Ramnor "
   ]
  },
  {
   "cell_type": "code",
   "execution_count": 1,
   "metadata": {},
   "outputs": [],
   "source": [
    "import numpy as np\n",
    "import scipy as sp\n",
    "import pandas as pd\n",
    "import matplotlib.pyplot as plt"
   ]
  },
  {
   "cell_type": "markdown",
   "metadata": {},
   "source": [
    "read data collected tron NI labview"
   ]
  },
  {
   "cell_type": "code",
   "execution_count": 2,
   "metadata": {},
   "outputs": [],
   "source": [
    "df = pd.read_csv('Helium 3.txt',header = None,delimiter='\\t')"
   ]
  },
  {
   "cell_type": "code",
   "execution_count": 3,
   "metadata": {},
   "outputs": [
    {
     "data": {
      "text/html": [
       "<div>\n",
       "<style scoped>\n",
       "    .dataframe tbody tr th:only-of-type {\n",
       "        vertical-align: middle;\n",
       "    }\n",
       "\n",
       "    .dataframe tbody tr th {\n",
       "        vertical-align: top;\n",
       "    }\n",
       "\n",
       "    .dataframe thead th {\n",
       "        text-align: right;\n",
       "    }\n",
       "</style>\n",
       "<table border=\"1\" class=\"dataframe\">\n",
       "  <thead>\n",
       "    <tr style=\"text-align: right;\">\n",
       "      <th></th>\n",
       "      <th>0</th>\n",
       "      <th>1</th>\n",
       "      <th>2</th>\n",
       "      <th>3</th>\n",
       "      <th>4</th>\n",
       "      <th>5</th>\n",
       "      <th>6</th>\n",
       "      <th>7</th>\n",
       "      <th>8</th>\n",
       "      <th>9</th>\n",
       "      <th>10</th>\n",
       "    </tr>\n",
       "  </thead>\n",
       "  <tbody>\n",
       "    <tr>\n",
       "      <th>0</th>\n",
       "      <td>88971</td>\n",
       "      <td>0.115846</td>\n",
       "      <td>0.117186</td>\n",
       "      <td>0.115176</td>\n",
       "      <td>0.115846</td>\n",
       "      <td>0.115511</td>\n",
       "      <td>0.115176</td>\n",
       "      <td>0.114841</td>\n",
       "      <td>0.115846</td>\n",
       "      <td>0.114841</td>\n",
       "      <td>0.115511</td>\n",
       "    </tr>\n",
       "    <tr>\n",
       "      <th>1</th>\n",
       "      <td>88972</td>\n",
       "      <td>0.113835</td>\n",
       "      <td>0.115511</td>\n",
       "      <td>0.114841</td>\n",
       "      <td>0.116516</td>\n",
       "      <td>0.116181</td>\n",
       "      <td>0.112495</td>\n",
       "      <td>0.115176</td>\n",
       "      <td>0.117521</td>\n",
       "      <td>0.114841</td>\n",
       "      <td>0.111825</td>\n",
       "    </tr>\n",
       "    <tr>\n",
       "      <th>2</th>\n",
       "      <td>88973</td>\n",
       "      <td>0.114841</td>\n",
       "      <td>0.115176</td>\n",
       "      <td>0.116516</td>\n",
       "      <td>0.114506</td>\n",
       "      <td>0.114841</td>\n",
       "      <td>0.112830</td>\n",
       "      <td>0.116516</td>\n",
       "      <td>0.114506</td>\n",
       "      <td>0.115511</td>\n",
       "      <td>0.114506</td>\n",
       "    </tr>\n",
       "    <tr>\n",
       "      <th>3</th>\n",
       "      <td>88974</td>\n",
       "      <td>0.116181</td>\n",
       "      <td>0.117521</td>\n",
       "      <td>0.109144</td>\n",
       "      <td>0.115846</td>\n",
       "      <td>0.115176</td>\n",
       "      <td>0.113165</td>\n",
       "      <td>0.113500</td>\n",
       "      <td>0.113500</td>\n",
       "      <td>0.115511</td>\n",
       "      <td>0.116851</td>\n",
       "    </tr>\n",
       "    <tr>\n",
       "      <th>4</th>\n",
       "      <td>88975</td>\n",
       "      <td>0.114171</td>\n",
       "      <td>0.115511</td>\n",
       "      <td>0.115511</td>\n",
       "      <td>0.115846</td>\n",
       "      <td>0.115846</td>\n",
       "      <td>0.115511</td>\n",
       "      <td>0.115846</td>\n",
       "      <td>0.114171</td>\n",
       "      <td>0.110820</td>\n",
       "      <td>0.116181</td>\n",
       "    </tr>\n",
       "    <tr>\n",
       "      <th>...</th>\n",
       "      <td>...</td>\n",
       "      <td>...</td>\n",
       "      <td>...</td>\n",
       "      <td>...</td>\n",
       "      <td>...</td>\n",
       "      <td>...</td>\n",
       "      <td>...</td>\n",
       "      <td>...</td>\n",
       "      <td>...</td>\n",
       "      <td>...</td>\n",
       "      <td>...</td>\n",
       "    </tr>\n",
       "    <tr>\n",
       "      <th>10026</th>\n",
       "      <td>98997</td>\n",
       "      <td>0.114506</td>\n",
       "      <td>0.115846</td>\n",
       "      <td>0.115176</td>\n",
       "      <td>0.116851</td>\n",
       "      <td>0.116516</td>\n",
       "      <td>0.114506</td>\n",
       "      <td>0.116181</td>\n",
       "      <td>0.115176</td>\n",
       "      <td>0.115846</td>\n",
       "      <td>0.115846</td>\n",
       "    </tr>\n",
       "    <tr>\n",
       "      <th>10027</th>\n",
       "      <td>98998</td>\n",
       "      <td>0.115511</td>\n",
       "      <td>0.117186</td>\n",
       "      <td>0.116181</td>\n",
       "      <td>0.111490</td>\n",
       "      <td>0.115176</td>\n",
       "      <td>0.115176</td>\n",
       "      <td>0.116181</td>\n",
       "      <td>0.116181</td>\n",
       "      <td>0.113835</td>\n",
       "      <td>0.112160</td>\n",
       "    </tr>\n",
       "    <tr>\n",
       "      <th>10028</th>\n",
       "      <td>98999</td>\n",
       "      <td>0.113835</td>\n",
       "      <td>0.110485</td>\n",
       "      <td>0.114841</td>\n",
       "      <td>0.115511</td>\n",
       "      <td>0.114506</td>\n",
       "      <td>0.112160</td>\n",
       "      <td>0.114506</td>\n",
       "      <td>0.115176</td>\n",
       "      <td>0.114506</td>\n",
       "      <td>0.116516</td>\n",
       "    </tr>\n",
       "    <tr>\n",
       "      <th>10029</th>\n",
       "      <td>99000</td>\n",
       "      <td>0.114171</td>\n",
       "      <td>0.112830</td>\n",
       "      <td>0.114506</td>\n",
       "      <td>0.114841</td>\n",
       "      <td>0.115176</td>\n",
       "      <td>0.115176</td>\n",
       "      <td>0.106128</td>\n",
       "      <td>0.116516</td>\n",
       "      <td>0.114506</td>\n",
       "      <td>0.118191</td>\n",
       "    </tr>\n",
       "    <tr>\n",
       "      <th>10030</th>\n",
       "      <td>99001</td>\n",
       "      <td>0.115176</td>\n",
       "      <td>0.115511</td>\n",
       "      <td>0.115846</td>\n",
       "      <td>0.114506</td>\n",
       "      <td>0.114506</td>\n",
       "      <td>0.115511</td>\n",
       "      <td>0.115176</td>\n",
       "      <td>0.114841</td>\n",
       "      <td>0.114506</td>\n",
       "      <td>0.116851</td>\n",
       "    </tr>\n",
       "  </tbody>\n",
       "</table>\n",
       "<p>10031 rows × 11 columns</p>\n",
       "</div>"
      ],
      "text/plain": [
       "          0         1         2         3         4         5         6   \\\n",
       "0      88971  0.115846  0.117186  0.115176  0.115846  0.115511  0.115176   \n",
       "1      88972  0.113835  0.115511  0.114841  0.116516  0.116181  0.112495   \n",
       "2      88973  0.114841  0.115176  0.116516  0.114506  0.114841  0.112830   \n",
       "3      88974  0.116181  0.117521  0.109144  0.115846  0.115176  0.113165   \n",
       "4      88975  0.114171  0.115511  0.115511  0.115846  0.115846  0.115511   \n",
       "...      ...       ...       ...       ...       ...       ...       ...   \n",
       "10026  98997  0.114506  0.115846  0.115176  0.116851  0.116516  0.114506   \n",
       "10027  98998  0.115511  0.117186  0.116181  0.111490  0.115176  0.115176   \n",
       "10028  98999  0.113835  0.110485  0.114841  0.115511  0.114506  0.112160   \n",
       "10029  99000  0.114171  0.112830  0.114506  0.114841  0.115176  0.115176   \n",
       "10030  99001  0.115176  0.115511  0.115846  0.114506  0.114506  0.115511   \n",
       "\n",
       "             7         8         9         10  \n",
       "0      0.114841  0.115846  0.114841  0.115511  \n",
       "1      0.115176  0.117521  0.114841  0.111825  \n",
       "2      0.116516  0.114506  0.115511  0.114506  \n",
       "3      0.113500  0.113500  0.115511  0.116851  \n",
       "4      0.115846  0.114171  0.110820  0.116181  \n",
       "...         ...       ...       ...       ...  \n",
       "10026  0.116181  0.115176  0.115846  0.115846  \n",
       "10027  0.116181  0.116181  0.113835  0.112160  \n",
       "10028  0.114506  0.115176  0.114506  0.116516  \n",
       "10029  0.106128  0.116516  0.114506  0.118191  \n",
       "10030  0.115176  0.114841  0.114506  0.116851  \n",
       "\n",
       "[10031 rows x 11 columns]"
      ]
     },
     "execution_count": 3,
     "metadata": {},
     "output_type": "execute_result"
    }
   ],
   "source": [
    "df"
   ]
  },
  {
   "cell_type": "code",
   "execution_count": 4,
   "metadata": {},
   "outputs": [],
   "source": [
    "# relabel data columns\n",
    "for i in range(0,12):\n",
    "    if i == 0:\n",
    "        df.rename(columns = {i:'Wavenumber'}, inplace = True)\n",
    "    else:\n",
    "        df.rename(columns = {i:'Sample'+str(i)}, inplace = True)"
   ]
  },
  {
   "cell_type": "code",
   "execution_count": 5,
   "metadata": {},
   "outputs": [
    {
     "data": {
      "text/html": [
       "<div>\n",
       "<style scoped>\n",
       "    .dataframe tbody tr th:only-of-type {\n",
       "        vertical-align: middle;\n",
       "    }\n",
       "\n",
       "    .dataframe tbody tr th {\n",
       "        vertical-align: top;\n",
       "    }\n",
       "\n",
       "    .dataframe thead th {\n",
       "        text-align: right;\n",
       "    }\n",
       "</style>\n",
       "<table border=\"1\" class=\"dataframe\">\n",
       "  <thead>\n",
       "    <tr style=\"text-align: right;\">\n",
       "      <th></th>\n",
       "      <th>Wavenumber</th>\n",
       "      <th>Sample1</th>\n",
       "      <th>Sample2</th>\n",
       "      <th>Sample3</th>\n",
       "      <th>Sample4</th>\n",
       "      <th>Sample5</th>\n",
       "      <th>Sample6</th>\n",
       "      <th>Sample7</th>\n",
       "      <th>Sample8</th>\n",
       "      <th>Sample9</th>\n",
       "      <th>Sample10</th>\n",
       "    </tr>\n",
       "  </thead>\n",
       "  <tbody>\n",
       "    <tr>\n",
       "      <th>0</th>\n",
       "      <td>88971</td>\n",
       "      <td>0.115846</td>\n",
       "      <td>0.117186</td>\n",
       "      <td>0.115176</td>\n",
       "      <td>0.115846</td>\n",
       "      <td>0.115511</td>\n",
       "      <td>0.115176</td>\n",
       "      <td>0.114841</td>\n",
       "      <td>0.115846</td>\n",
       "      <td>0.114841</td>\n",
       "      <td>0.115511</td>\n",
       "    </tr>\n",
       "    <tr>\n",
       "      <th>1</th>\n",
       "      <td>88972</td>\n",
       "      <td>0.113835</td>\n",
       "      <td>0.115511</td>\n",
       "      <td>0.114841</td>\n",
       "      <td>0.116516</td>\n",
       "      <td>0.116181</td>\n",
       "      <td>0.112495</td>\n",
       "      <td>0.115176</td>\n",
       "      <td>0.117521</td>\n",
       "      <td>0.114841</td>\n",
       "      <td>0.111825</td>\n",
       "    </tr>\n",
       "    <tr>\n",
       "      <th>2</th>\n",
       "      <td>88973</td>\n",
       "      <td>0.114841</td>\n",
       "      <td>0.115176</td>\n",
       "      <td>0.116516</td>\n",
       "      <td>0.114506</td>\n",
       "      <td>0.114841</td>\n",
       "      <td>0.112830</td>\n",
       "      <td>0.116516</td>\n",
       "      <td>0.114506</td>\n",
       "      <td>0.115511</td>\n",
       "      <td>0.114506</td>\n",
       "    </tr>\n",
       "    <tr>\n",
       "      <th>3</th>\n",
       "      <td>88974</td>\n",
       "      <td>0.116181</td>\n",
       "      <td>0.117521</td>\n",
       "      <td>0.109144</td>\n",
       "      <td>0.115846</td>\n",
       "      <td>0.115176</td>\n",
       "      <td>0.113165</td>\n",
       "      <td>0.113500</td>\n",
       "      <td>0.113500</td>\n",
       "      <td>0.115511</td>\n",
       "      <td>0.116851</td>\n",
       "    </tr>\n",
       "    <tr>\n",
       "      <th>4</th>\n",
       "      <td>88975</td>\n",
       "      <td>0.114171</td>\n",
       "      <td>0.115511</td>\n",
       "      <td>0.115511</td>\n",
       "      <td>0.115846</td>\n",
       "      <td>0.115846</td>\n",
       "      <td>0.115511</td>\n",
       "      <td>0.115846</td>\n",
       "      <td>0.114171</td>\n",
       "      <td>0.110820</td>\n",
       "      <td>0.116181</td>\n",
       "    </tr>\n",
       "    <tr>\n",
       "      <th>...</th>\n",
       "      <td>...</td>\n",
       "      <td>...</td>\n",
       "      <td>...</td>\n",
       "      <td>...</td>\n",
       "      <td>...</td>\n",
       "      <td>...</td>\n",
       "      <td>...</td>\n",
       "      <td>...</td>\n",
       "      <td>...</td>\n",
       "      <td>...</td>\n",
       "      <td>...</td>\n",
       "    </tr>\n",
       "    <tr>\n",
       "      <th>10026</th>\n",
       "      <td>98997</td>\n",
       "      <td>0.114506</td>\n",
       "      <td>0.115846</td>\n",
       "      <td>0.115176</td>\n",
       "      <td>0.116851</td>\n",
       "      <td>0.116516</td>\n",
       "      <td>0.114506</td>\n",
       "      <td>0.116181</td>\n",
       "      <td>0.115176</td>\n",
       "      <td>0.115846</td>\n",
       "      <td>0.115846</td>\n",
       "    </tr>\n",
       "    <tr>\n",
       "      <th>10027</th>\n",
       "      <td>98998</td>\n",
       "      <td>0.115511</td>\n",
       "      <td>0.117186</td>\n",
       "      <td>0.116181</td>\n",
       "      <td>0.111490</td>\n",
       "      <td>0.115176</td>\n",
       "      <td>0.115176</td>\n",
       "      <td>0.116181</td>\n",
       "      <td>0.116181</td>\n",
       "      <td>0.113835</td>\n",
       "      <td>0.112160</td>\n",
       "    </tr>\n",
       "    <tr>\n",
       "      <th>10028</th>\n",
       "      <td>98999</td>\n",
       "      <td>0.113835</td>\n",
       "      <td>0.110485</td>\n",
       "      <td>0.114841</td>\n",
       "      <td>0.115511</td>\n",
       "      <td>0.114506</td>\n",
       "      <td>0.112160</td>\n",
       "      <td>0.114506</td>\n",
       "      <td>0.115176</td>\n",
       "      <td>0.114506</td>\n",
       "      <td>0.116516</td>\n",
       "    </tr>\n",
       "    <tr>\n",
       "      <th>10029</th>\n",
       "      <td>99000</td>\n",
       "      <td>0.114171</td>\n",
       "      <td>0.112830</td>\n",
       "      <td>0.114506</td>\n",
       "      <td>0.114841</td>\n",
       "      <td>0.115176</td>\n",
       "      <td>0.115176</td>\n",
       "      <td>0.106128</td>\n",
       "      <td>0.116516</td>\n",
       "      <td>0.114506</td>\n",
       "      <td>0.118191</td>\n",
       "    </tr>\n",
       "    <tr>\n",
       "      <th>10030</th>\n",
       "      <td>99001</td>\n",
       "      <td>0.115176</td>\n",
       "      <td>0.115511</td>\n",
       "      <td>0.115846</td>\n",
       "      <td>0.114506</td>\n",
       "      <td>0.114506</td>\n",
       "      <td>0.115511</td>\n",
       "      <td>0.115176</td>\n",
       "      <td>0.114841</td>\n",
       "      <td>0.114506</td>\n",
       "      <td>0.116851</td>\n",
       "    </tr>\n",
       "  </tbody>\n",
       "</table>\n",
       "<p>10031 rows × 11 columns</p>\n",
       "</div>"
      ],
      "text/plain": [
       "       Wavenumber   Sample1   Sample2   Sample3   Sample4   Sample5   Sample6  \\\n",
       "0           88971  0.115846  0.117186  0.115176  0.115846  0.115511  0.115176   \n",
       "1           88972  0.113835  0.115511  0.114841  0.116516  0.116181  0.112495   \n",
       "2           88973  0.114841  0.115176  0.116516  0.114506  0.114841  0.112830   \n",
       "3           88974  0.116181  0.117521  0.109144  0.115846  0.115176  0.113165   \n",
       "4           88975  0.114171  0.115511  0.115511  0.115846  0.115846  0.115511   \n",
       "...           ...       ...       ...       ...       ...       ...       ...   \n",
       "10026       98997  0.114506  0.115846  0.115176  0.116851  0.116516  0.114506   \n",
       "10027       98998  0.115511  0.117186  0.116181  0.111490  0.115176  0.115176   \n",
       "10028       98999  0.113835  0.110485  0.114841  0.115511  0.114506  0.112160   \n",
       "10029       99000  0.114171  0.112830  0.114506  0.114841  0.115176  0.115176   \n",
       "10030       99001  0.115176  0.115511  0.115846  0.114506  0.114506  0.115511   \n",
       "\n",
       "        Sample7   Sample8   Sample9  Sample10  \n",
       "0      0.114841  0.115846  0.114841  0.115511  \n",
       "1      0.115176  0.117521  0.114841  0.111825  \n",
       "2      0.116516  0.114506  0.115511  0.114506  \n",
       "3      0.113500  0.113500  0.115511  0.116851  \n",
       "4      0.115846  0.114171  0.110820  0.116181  \n",
       "...         ...       ...       ...       ...  \n",
       "10026  0.116181  0.115176  0.115846  0.115846  \n",
       "10027  0.116181  0.116181  0.113835  0.112160  \n",
       "10028  0.114506  0.115176  0.114506  0.116516  \n",
       "10029  0.106128  0.116516  0.114506  0.118191  \n",
       "10030  0.115176  0.114841  0.114506  0.116851  \n",
       "\n",
       "[10031 rows x 11 columns]"
      ]
     },
     "execution_count": 5,
     "metadata": {},
     "output_type": "execute_result"
    }
   ],
   "source": [
    "df"
   ]
  },
  {
   "cell_type": "code",
   "execution_count": 16,
   "metadata": {},
   "outputs": [
    {
     "data": {
      "text/plain": [
       "<matplotlib.legend.Legend at 0x7fef1bd94760>"
      ]
     },
     "execution_count": 16,
     "metadata": {},
     "output_type": "execute_result"
    },
    {
     "data": {
      "image/png": "[encoded data removed]",
      "text/plain": [
       "<Figure size 720x720 with 1 Axes>"
      ]
     },
     "metadata": {
      "needs_background": "light"
     },
     "output_type": "display_data"
    }
   ],
   "source": [
    "# plot wavenumber by voltage\n",
    "plt.figure(figsize=(10,10))\n",
    "for j in range(1,11):\n",
    "    y = \"Sample\"+str(j)\n",
    "    plt.plot(df.Wavenumber,df[y],label=j)\n",
    "    plt.ylim(df.Sample1.min(),df.Sample1.max()) # largest magnitude, lowest magnitude\n",
    "plt.yscale(\"symlog\")\n",
    "plt.xlim(89000,99000)\n",
    "plt.legend()"
   ]
  },
  {
   "cell_type": "code",
   "execution_count": 15,
   "metadata": {},
   "outputs": [
    {
     "data": {
      "text/plain": [
       "(-10.208469000000001, 0.118861)"
      ]
     },
     "execution_count": 15,
     "metadata": {},
     "output_type": "execute_result"
    }
   ],
   "source": [
    "df.Sample1.min(),df.Sample1.max()"
   ]
  },
  {
   "cell_type": "code",
   "execution_count": null,
   "metadata": {},
   "outputs": [],
   "source": [
    "# get wavenumber for spesific voltage\n",
    "def get_wn(val):\n",
    "    "
   ]
  },
  {
   "cell_type": "code",
   "execution_count": null,
   "metadata": {},
   "outputs": [],
   "source": [
    "df.Sample3.min()\n",
    "df.query('Sample3 == -10.208469000000001')\n",
    "# df.Sample3.value_counts()"
   ]
  },
  {
   "cell_type": "code",
   "execution_count": null,
   "metadata": {},
   "outputs": [],
   "source": [
    "df.query('Sample3 == -10.208469000000001')"
   ]
  },
  {
   "cell_type": "code",
   "execution_count": null,
   "metadata": {},
   "outputs": [],
   "source": [
    "(91818/91809)"
   ]
  },
  {
   "cell_type": "code",
   "execution_count": null,
   "metadata": {},
   "outputs": [],
   "source": [
    "1/98242"
   ]
  },
  {
   "cell_type": "code",
   "execution_count": null,
   "metadata": {},
   "outputs": [],
   "source": [
    "1/588"
   ]
  },
  {
   "cell_type": "code",
   "execution_count": null,
   "metadata": {},
   "outputs": [],
   "source": [
    "df.Sample3[2835:2850]"
   ]
  },
  {
   "cell_type": "code",
   "execution_count": null,
   "metadata": {},
   "outputs": [],
   "source": [
    "from scipy.signal import find_peaks"
   ]
  },
  {
   "cell_type": "code",
   "execution_count": null,
   "metadata": {},
   "outputs": [],
   "source": [
    "find_peaks(-df.Sample3[0:]+np.mean(df.Sample3[0:100]))"
   ]
  },
  {
   "cell_type": "code",
   "execution_count": null,
   "metadata": {},
   "outputs": [],
   "source": [
    "x = -df.Sample3[0:]"
   ]
  },
  {
   "cell_type": "code",
   "execution_count": null,
   "metadata": {},
   "outputs": [],
   "source": [
    "f"
   ]
  },
  {
   "cell_type": "code",
   "execution_count": null,
   "metadata": {},
   "outputs": [],
   "source": [
    "f['peak_heights']"
   ]
  },
  {
   "cell_type": "code",
   "execution_count": null,
   "metadata": {},
   "outputs": [],
   "source": [
    "np.arange(10031)+88971"
   ]
  },
  {
   "cell_type": "code",
   "execution_count": null,
   "metadata": {},
   "outputs": [],
   "source": [
    "len(x)"
   ]
  },
  {
   "cell_type": "code",
   "execution_count": null,
   "metadata": {},
   "outputs": [],
   "source": [
    "peaks, f = find_peaks(x, height=0)\n",
    "plt.plot(-x)\n",
    "plt.plot(peaks, -x[peaks], \"x\")\n",
    "plt.plot(np.zeros_like(x), \"--\", color=\"gray\")\n",
    "plt.show()"
   ]
  },
  {
   "cell_type": "code",
   "execution_count": null,
   "metadata": {},
   "outputs": [],
   "source": [
    "for p in peaks:\n",
    "    if x[p] >1:\n",
    "        print(p+88971,x[p])"
   ]
  },
  {
   "cell_type": "code",
   "execution_count": null,
   "metadata": {},
   "outputs": [],
   "source": [
    "def make_into_wl(wn):\n",
    "    if type(wn) != int:\n",
    "        try:\n",
    "            wl_in_cm = 1/wn\n",
    "            wl_in_m = wl_in_cm*0.01\n",
    "            return wl_in_m*1e9\n",
    "        except:\n",
    "            TypeError\n",
    "    elif wn < 88971:\n",
    "        wn += 88971\n",
    "    wl_in_cm = 1/wn\n",
    "    wl_in_m = wl_in_cm*0.01\n",
    "    return wl_in_m*1e9"
   ]
  },
  {
   "cell_type": "code",
   "execution_count": null,
   "metadata": {},
   "outputs": [],
   "source": [
    "make_into_wl(91812)"
   ]
  },
  {
   "cell_type": "code",
   "execution_count": null,
   "metadata": {},
   "outputs": [],
   "source": [
    "make_into_wl(0)"
   ]
  },
  {
   "cell_type": "code",
   "execution_count": null,
   "metadata": {},
   "outputs": [],
   "source": [
    "diff = make_into_wl(91812) - 588"
   ]
  },
  {
   "cell_type": "code",
   "execution_count": null,
   "metadata": {},
   "outputs": [],
   "source": [
    "diff"
   ]
  },
  {
   "cell_type": "code",
   "execution_count": null,
   "metadata": {},
   "outputs": [],
   "source": [
    "wl = []\n",
    "for p in peaks:\n",
    "    l = make_into_wl(p)-diff\n",
    "    print(l,x[p])"
   ]
  },
  {
   "cell_type": "code",
   "execution_count": null,
   "metadata": {},
   "outputs": [],
   "source": [
    "plt.figure(figsize=(15,5))\n",
    "for j in range(1,11):\n",
    "    y = \"Sample\"+str(j)\n",
    "    wl = make_into_wl(df.Wavenumber)\n",
    "    plt.plot(wl,df[y],label=j)\n",
    "    plt.ylim(0,-10)\n",
    "    plt.xlim(104,112)\n",
    "plt.legend()"
   ]
  },
  {
   "cell_type": "code",
   "execution_count": null,
   "metadata": {},
   "outputs": [],
   "source": [
    "type(4)"
   ]
  },
  {
   "cell_type": "code",
   "execution_count": null,
   "metadata": {},
   "outputs": [],
   "source": [
    "y=np.array([667.815,587.562,504.774,501.567,492])"
   ]
  },
  {
   "cell_type": "code",
   "execution_count": null,
   "metadata": {},
   "outputs": [],
   "source": [
    "z=1/(y*1e-9*100)"
   ]
  },
  {
   "cell_type": "code",
   "execution_count": null,
   "metadata": {},
   "outputs": [],
   "source": [
    "physical_w=np.round(z)\n",
    "physical_diff = 91812-physical_w[1]\n",
    "physical_diff"
   ]
  },
  {
   "cell_type": "code",
   "execution_count": null,
   "metadata": {},
   "outputs": [],
   "source": [
    "dummy = {}\n",
    "\n",
    "dummy['Wavenumber']= np.arange(len(df.Wavenumber))+88971\n",
    "dummy['Sample']= np.arange(len(df.Wavenumber))+np.mean(df.Sample1)\n",
    "dummy"
   ]
  },
  {
   "cell_type": "code",
   "execution_count": null,
   "metadata": {},
   "outputs": [],
   "source": [
    "for i,j in enumerate(physical_w):\n",
    "    print(i,j)\n",
    "    dummy['Sample'][] = -10"
   ]
  },
  {
   "cell_type": "code",
   "execution_count": null,
   "metadata": {},
   "outputs": [],
   "source": [
    "df2=pd.DataFrame(dummy)"
   ]
  },
  {
   "cell_type": "code",
   "execution_count": null,
   "metadata": {},
   "outputs": [],
   "source": [
    "plt.figure(figsize=(20,5))\n",
    "for j in range(1,11):\n",
    "    y = \"Sample\"+str(j)\n",
    "    plt.plot(df.Wavenumber,-df[y],label=j)\n",
    "    plt.xlim(89000,99000)\n",
    "#     plt.xscale('symlog')\n",
    "plt.plot(df2.Wavenumber,-df.,label=\"h\")\n",
    "\n",
    "plt.legend()"
   ]
  },
  {
   "cell_type": "code",
   "execution_count": null,
   "metadata": {},
   "outputs": [],
   "source": []
  },
  {
   "cell_type": "code",
   "execution_count": null,
   "metadata": {},
   "outputs": [],
   "source": []
  }
 ],
 "metadata": {
  "kernelspec": {
   "display_name": "Python 3",
   "language": "python",
   "name": "python3"
  },
  "language_info": {
   "codemirror_mode": {
    "name": "ipython",
    "version": 3
   },
   "file_extension": ".py",
   "mimetype": "text/x-python",
   "name": "python",
   "nbconvert_exporter": "python",
   "pygments_lexer": "ipython3",
   "version": "3.8.3"
  }
 },
 "nbformat": 4,
 "nbformat_minor": 4
}
