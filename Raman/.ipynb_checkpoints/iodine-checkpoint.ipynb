{
 "cells": [
  {
   "cell_type": "markdown",
   "metadata": {},
   "source": [
    "## Iodine Florecense Spectroscopy"
   ]
  },
  {
   "cell_type": "code",
   "execution_count": 1,
   "metadata": {},
   "outputs": [],
   "source": [
    "import numpy as np\n",
    "import scipy as sp\n",
    "import pandas as pd\n",
    "import matplotlib.pyplot as plt\n",
    "from scipy.signal import find_peaks"
   ]
  },
  {
   "cell_type": "markdown",
   "metadata": {},
   "source": [
    "read data collected tron NI labview"
   ]
  },
  {
   "cell_type": "code",
   "execution_count": 2,
   "metadata": {},
   "outputs": [],
   "source": [
    "df = pd.read_csv('iodine run 3.txt',header = None,delimiter='\\t')\n",
    "df2 = pd.read_csv('iodine drive run4.txt',header = None,delimiter='\\t')"
   ]
  },
  {
   "cell_type": "code",
   "execution_count": 3,
   "metadata": {},
   "outputs": [
    {
     "data": {
      "text/html": [
       "<div>\n",
       "<style scoped>\n",
       "    .dataframe tbody tr th:only-of-type {\n",
       "        vertical-align: middle;\n",
       "    }\n",
       "\n",
       "    .dataframe tbody tr th {\n",
       "        vertical-align: top;\n",
       "    }\n",
       "\n",
       "    .dataframe thead th {\n",
       "        text-align: right;\n",
       "    }\n",
       "</style>\n",
       "<table border=\"1\" class=\"dataframe\">\n",
       "  <thead>\n",
       "    <tr style=\"text-align: right;\">\n",
       "      <th></th>\n",
       "      <th>0</th>\n",
       "      <th>1</th>\n",
       "      <th>2</th>\n",
       "      <th>3</th>\n",
       "      <th>4</th>\n",
       "      <th>5</th>\n",
       "      <th>6</th>\n",
       "      <th>7</th>\n",
       "      <th>8</th>\n",
       "      <th>9</th>\n",
       "      <th>10</th>\n",
       "    </tr>\n",
       "  </thead>\n",
       "  <tbody>\n",
       "    <tr>\n",
       "      <th>0</th>\n",
       "      <td>89991</td>\n",
       "      <td>-0.556563</td>\n",
       "      <td>-0.557578</td>\n",
       "      <td>-0.556901</td>\n",
       "      <td>-0.556563</td>\n",
       "      <td>-0.557916</td>\n",
       "      <td>-0.556563</td>\n",
       "      <td>-0.557916</td>\n",
       "      <td>-0.556901</td>\n",
       "      <td>-0.556901</td>\n",
       "      <td>-0.557916</td>\n",
       "    </tr>\n",
       "    <tr>\n",
       "      <th>1</th>\n",
       "      <td>89992</td>\n",
       "      <td>-0.558592</td>\n",
       "      <td>-0.558254</td>\n",
       "      <td>-0.558254</td>\n",
       "      <td>-0.558592</td>\n",
       "      <td>-0.557578</td>\n",
       "      <td>-0.559268</td>\n",
       "      <td>-0.559607</td>\n",
       "      <td>-0.558930</td>\n",
       "      <td>-0.559607</td>\n",
       "      <td>-0.559268</td>\n",
       "    </tr>\n",
       "    <tr>\n",
       "      <th>2</th>\n",
       "      <td>89993</td>\n",
       "      <td>-0.558254</td>\n",
       "      <td>-0.558592</td>\n",
       "      <td>-0.558592</td>\n",
       "      <td>-0.557578</td>\n",
       "      <td>-0.557578</td>\n",
       "      <td>-0.556563</td>\n",
       "      <td>-0.557578</td>\n",
       "      <td>-0.558254</td>\n",
       "      <td>-0.557578</td>\n",
       "      <td>-0.557916</td>\n",
       "    </tr>\n",
       "    <tr>\n",
       "      <th>3</th>\n",
       "      <td>89994</td>\n",
       "      <td>-0.555210</td>\n",
       "      <td>-0.555887</td>\n",
       "      <td>-0.556901</td>\n",
       "      <td>-0.557239</td>\n",
       "      <td>-0.556901</td>\n",
       "      <td>-0.555887</td>\n",
       "      <td>-0.557239</td>\n",
       "      <td>-0.555887</td>\n",
       "      <td>-0.556225</td>\n",
       "      <td>-0.555549</td>\n",
       "    </tr>\n",
       "    <tr>\n",
       "      <th>4</th>\n",
       "      <td>89995</td>\n",
       "      <td>-0.554196</td>\n",
       "      <td>-0.554534</td>\n",
       "      <td>-0.554872</td>\n",
       "      <td>-0.554872</td>\n",
       "      <td>-0.555210</td>\n",
       "      <td>-0.553858</td>\n",
       "      <td>-0.554534</td>\n",
       "      <td>-0.552843</td>\n",
       "      <td>-0.554872</td>\n",
       "      <td>-0.553181</td>\n",
       "    </tr>\n",
       "    <tr>\n",
       "      <th>...</th>\n",
       "      <td>...</td>\n",
       "      <td>...</td>\n",
       "      <td>...</td>\n",
       "      <td>...</td>\n",
       "      <td>...</td>\n",
       "      <td>...</td>\n",
       "      <td>...</td>\n",
       "      <td>...</td>\n",
       "      <td>...</td>\n",
       "      <td>...</td>\n",
       "      <td>...</td>\n",
       "    </tr>\n",
       "    <tr>\n",
       "      <th>9006</th>\n",
       "      <td>98997</td>\n",
       "      <td>-2.409661</td>\n",
       "      <td>-2.407274</td>\n",
       "      <td>-2.408297</td>\n",
       "      <td>-2.430461</td>\n",
       "      <td>-2.395680</td>\n",
       "      <td>-2.400113</td>\n",
       "      <td>-2.403182</td>\n",
       "      <td>-2.444782</td>\n",
       "      <td>-2.400795</td>\n",
       "      <td>-2.419209</td>\n",
       "    </tr>\n",
       "    <tr>\n",
       "      <th>9007</th>\n",
       "      <td>98998</td>\n",
       "      <td>-2.412389</td>\n",
       "      <td>-2.401136</td>\n",
       "      <td>-2.397044</td>\n",
       "      <td>-2.403182</td>\n",
       "      <td>-2.412048</td>\n",
       "      <td>-2.417504</td>\n",
       "      <td>-2.415458</td>\n",
       "      <td>-2.393975</td>\n",
       "      <td>-2.417504</td>\n",
       "      <td>-2.419209</td>\n",
       "    </tr>\n",
       "    <tr>\n",
       "      <th>9008</th>\n",
       "      <td>98999</td>\n",
       "      <td>-2.414776</td>\n",
       "      <td>-2.418186</td>\n",
       "      <td>-2.423641</td>\n",
       "      <td>-2.407274</td>\n",
       "      <td>-2.422277</td>\n",
       "      <td>-2.412730</td>\n",
       "      <td>-2.419890</td>\n",
       "      <td>-2.405228</td>\n",
       "      <td>-2.433530</td>\n",
       "      <td>-2.418868</td>\n",
       "    </tr>\n",
       "    <tr>\n",
       "      <th>9009</th>\n",
       "      <td>99000</td>\n",
       "      <td>-2.406592</td>\n",
       "      <td>-2.417163</td>\n",
       "      <td>-2.402159</td>\n",
       "      <td>-2.458761</td>\n",
       "      <td>-2.407615</td>\n",
       "      <td>-2.415458</td>\n",
       "      <td>-2.397726</td>\n",
       "      <td>-2.409661</td>\n",
       "      <td>-2.405910</td>\n",
       "      <td>-2.433530</td>\n",
       "    </tr>\n",
       "    <tr>\n",
       "      <th>9010</th>\n",
       "      <td>99001</td>\n",
       "      <td>-2.399090</td>\n",
       "      <td>-2.409320</td>\n",
       "      <td>-2.395339</td>\n",
       "      <td>-2.418186</td>\n",
       "      <td>-2.406592</td>\n",
       "      <td>-2.410684</td>\n",
       "      <td>-2.432848</td>\n",
       "      <td>-2.400113</td>\n",
       "      <td>-2.407956</td>\n",
       "      <td>-2.427733</td>\n",
       "    </tr>\n",
       "  </tbody>\n",
       "</table>\n",
       "<p>9011 rows × 11 columns</p>\n",
       "</div>"
      ],
      "text/plain": [
       "         0         1         2         3         4         5         6   \\\n",
       "0     89991 -0.556563 -0.557578 -0.556901 -0.556563 -0.557916 -0.556563   \n",
       "1     89992 -0.558592 -0.558254 -0.558254 -0.558592 -0.557578 -0.559268   \n",
       "2     89993 -0.558254 -0.558592 -0.558592 -0.557578 -0.557578 -0.556563   \n",
       "3     89994 -0.555210 -0.555887 -0.556901 -0.557239 -0.556901 -0.555887   \n",
       "4     89995 -0.554196 -0.554534 -0.554872 -0.554872 -0.555210 -0.553858   \n",
       "...     ...       ...       ...       ...       ...       ...       ...   \n",
       "9006  98997 -2.409661 -2.407274 -2.408297 -2.430461 -2.395680 -2.400113   \n",
       "9007  98998 -2.412389 -2.401136 -2.397044 -2.403182 -2.412048 -2.417504   \n",
       "9008  98999 -2.414776 -2.418186 -2.423641 -2.407274 -2.422277 -2.412730   \n",
       "9009  99000 -2.406592 -2.417163 -2.402159 -2.458761 -2.407615 -2.415458   \n",
       "9010  99001 -2.399090 -2.409320 -2.395339 -2.418186 -2.406592 -2.410684   \n",
       "\n",
       "            7         8         9         10  \n",
       "0    -0.557916 -0.556901 -0.556901 -0.557916  \n",
       "1    -0.559607 -0.558930 -0.559607 -0.559268  \n",
       "2    -0.557578 -0.558254 -0.557578 -0.557916  \n",
       "3    -0.557239 -0.555887 -0.556225 -0.555549  \n",
       "4    -0.554534 -0.552843 -0.554872 -0.553181  \n",
       "...        ...       ...       ...       ...  \n",
       "9006 -2.403182 -2.444782 -2.400795 -2.419209  \n",
       "9007 -2.415458 -2.393975 -2.417504 -2.419209  \n",
       "9008 -2.419890 -2.405228 -2.433530 -2.418868  \n",
       "9009 -2.397726 -2.409661 -2.405910 -2.433530  \n",
       "9010 -2.432848 -2.400113 -2.407956 -2.427733  \n",
       "\n",
       "[9011 rows x 11 columns]"
      ]
     },
     "execution_count": 3,
     "metadata": {},
     "output_type": "execute_result"
    }
   ],
   "source": [
    "df"
   ]
  },
  {
   "cell_type": "code",
   "execution_count": 4,
   "metadata": {},
   "outputs": [],
   "source": [
    "# relabel data columns\n",
    "def relabel(dataframe):\n",
    "    for i in range(0,12):\n",
    "        if i == 0:\n",
    "            dataframe.rename(columns = {i:'Wavenumber'}, inplace = True)\n",
    "        else:\n",
    "            dataframe.rename(columns = {i:'Sample'+str(i)}, inplace = True)"
   ]
  },
  {
   "cell_type": "code",
   "execution_count": 5,
   "metadata": {},
   "outputs": [
    {
     "data": {
      "text/html": [
       "<div>\n",
       "<style scoped>\n",
       "    .dataframe tbody tr th:only-of-type {\n",
       "        vertical-align: middle;\n",
       "    }\n",
       "\n",
       "    .dataframe tbody tr th {\n",
       "        vertical-align: top;\n",
       "    }\n",
       "\n",
       "    .dataframe thead th {\n",
       "        text-align: right;\n",
       "    }\n",
       "</style>\n",
       "<table border=\"1\" class=\"dataframe\">\n",
       "  <thead>\n",
       "    <tr style=\"text-align: right;\">\n",
       "      <th></th>\n",
       "      <th>Wavenumber</th>\n",
       "      <th>Sample1</th>\n",
       "      <th>Sample2</th>\n",
       "      <th>Sample3</th>\n",
       "      <th>Sample4</th>\n",
       "      <th>Sample5</th>\n",
       "      <th>Sample6</th>\n",
       "      <th>Sample7</th>\n",
       "      <th>Sample8</th>\n",
       "      <th>Sample9</th>\n",
       "      <th>Sample10</th>\n",
       "    </tr>\n",
       "  </thead>\n",
       "  <tbody>\n",
       "    <tr>\n",
       "      <th>0</th>\n",
       "      <td>89991</td>\n",
       "      <td>-0.556563</td>\n",
       "      <td>-0.557578</td>\n",
       "      <td>-0.556901</td>\n",
       "      <td>-0.556563</td>\n",
       "      <td>-0.557916</td>\n",
       "      <td>-0.556563</td>\n",
       "      <td>-0.557916</td>\n",
       "      <td>-0.556901</td>\n",
       "      <td>-0.556901</td>\n",
       "      <td>-0.557916</td>\n",
       "    </tr>\n",
       "    <tr>\n",
       "      <th>1</th>\n",
       "      <td>89992</td>\n",
       "      <td>-0.558592</td>\n",
       "      <td>-0.558254</td>\n",
       "      <td>-0.558254</td>\n",
       "      <td>-0.558592</td>\n",
       "      <td>-0.557578</td>\n",
       "      <td>-0.559268</td>\n",
       "      <td>-0.559607</td>\n",
       "      <td>-0.558930</td>\n",
       "      <td>-0.559607</td>\n",
       "      <td>-0.559268</td>\n",
       "    </tr>\n",
       "    <tr>\n",
       "      <th>2</th>\n",
       "      <td>89993</td>\n",
       "      <td>-0.558254</td>\n",
       "      <td>-0.558592</td>\n",
       "      <td>-0.558592</td>\n",
       "      <td>-0.557578</td>\n",
       "      <td>-0.557578</td>\n",
       "      <td>-0.556563</td>\n",
       "      <td>-0.557578</td>\n",
       "      <td>-0.558254</td>\n",
       "      <td>-0.557578</td>\n",
       "      <td>-0.557916</td>\n",
       "    </tr>\n",
       "    <tr>\n",
       "      <th>3</th>\n",
       "      <td>89994</td>\n",
       "      <td>-0.555210</td>\n",
       "      <td>-0.555887</td>\n",
       "      <td>-0.556901</td>\n",
       "      <td>-0.557239</td>\n",
       "      <td>-0.556901</td>\n",
       "      <td>-0.555887</td>\n",
       "      <td>-0.557239</td>\n",
       "      <td>-0.555887</td>\n",
       "      <td>-0.556225</td>\n",
       "      <td>-0.555549</td>\n",
       "    </tr>\n",
       "    <tr>\n",
       "      <th>4</th>\n",
       "      <td>89995</td>\n",
       "      <td>-0.554196</td>\n",
       "      <td>-0.554534</td>\n",
       "      <td>-0.554872</td>\n",
       "      <td>-0.554872</td>\n",
       "      <td>-0.555210</td>\n",
       "      <td>-0.553858</td>\n",
       "      <td>-0.554534</td>\n",
       "      <td>-0.552843</td>\n",
       "      <td>-0.554872</td>\n",
       "      <td>-0.553181</td>\n",
       "    </tr>\n",
       "    <tr>\n",
       "      <th>...</th>\n",
       "      <td>...</td>\n",
       "      <td>...</td>\n",
       "      <td>...</td>\n",
       "      <td>...</td>\n",
       "      <td>...</td>\n",
       "      <td>...</td>\n",
       "      <td>...</td>\n",
       "      <td>...</td>\n",
       "      <td>...</td>\n",
       "      <td>...</td>\n",
       "      <td>...</td>\n",
       "    </tr>\n",
       "    <tr>\n",
       "      <th>9006</th>\n",
       "      <td>98997</td>\n",
       "      <td>-2.409661</td>\n",
       "      <td>-2.407274</td>\n",
       "      <td>-2.408297</td>\n",
       "      <td>-2.430461</td>\n",
       "      <td>-2.395680</td>\n",
       "      <td>-2.400113</td>\n",
       "      <td>-2.403182</td>\n",
       "      <td>-2.444782</td>\n",
       "      <td>-2.400795</td>\n",
       "      <td>-2.419209</td>\n",
       "    </tr>\n",
       "    <tr>\n",
       "      <th>9007</th>\n",
       "      <td>98998</td>\n",
       "      <td>-2.412389</td>\n",
       "      <td>-2.401136</td>\n",
       "      <td>-2.397044</td>\n",
       "      <td>-2.403182</td>\n",
       "      <td>-2.412048</td>\n",
       "      <td>-2.417504</td>\n",
       "      <td>-2.415458</td>\n",
       "      <td>-2.393975</td>\n",
       "      <td>-2.417504</td>\n",
       "      <td>-2.419209</td>\n",
       "    </tr>\n",
       "    <tr>\n",
       "      <th>9008</th>\n",
       "      <td>98999</td>\n",
       "      <td>-2.414776</td>\n",
       "      <td>-2.418186</td>\n",
       "      <td>-2.423641</td>\n",
       "      <td>-2.407274</td>\n",
       "      <td>-2.422277</td>\n",
       "      <td>-2.412730</td>\n",
       "      <td>-2.419890</td>\n",
       "      <td>-2.405228</td>\n",
       "      <td>-2.433530</td>\n",
       "      <td>-2.418868</td>\n",
       "    </tr>\n",
       "    <tr>\n",
       "      <th>9009</th>\n",
       "      <td>99000</td>\n",
       "      <td>-2.406592</td>\n",
       "      <td>-2.417163</td>\n",
       "      <td>-2.402159</td>\n",
       "      <td>-2.458761</td>\n",
       "      <td>-2.407615</td>\n",
       "      <td>-2.415458</td>\n",
       "      <td>-2.397726</td>\n",
       "      <td>-2.409661</td>\n",
       "      <td>-2.405910</td>\n",
       "      <td>-2.433530</td>\n",
       "    </tr>\n",
       "    <tr>\n",
       "      <th>9010</th>\n",
       "      <td>99001</td>\n",
       "      <td>-2.399090</td>\n",
       "      <td>-2.409320</td>\n",
       "      <td>-2.395339</td>\n",
       "      <td>-2.418186</td>\n",
       "      <td>-2.406592</td>\n",
       "      <td>-2.410684</td>\n",
       "      <td>-2.432848</td>\n",
       "      <td>-2.400113</td>\n",
       "      <td>-2.407956</td>\n",
       "      <td>-2.427733</td>\n",
       "    </tr>\n",
       "  </tbody>\n",
       "</table>\n",
       "<p>9011 rows × 11 columns</p>\n",
       "</div>"
      ],
      "text/plain": [
       "      Wavenumber   Sample1   Sample2   Sample3   Sample4   Sample5   Sample6  \\\n",
       "0          89991 -0.556563 -0.557578 -0.556901 -0.556563 -0.557916 -0.556563   \n",
       "1          89992 -0.558592 -0.558254 -0.558254 -0.558592 -0.557578 -0.559268   \n",
       "2          89993 -0.558254 -0.558592 -0.558592 -0.557578 -0.557578 -0.556563   \n",
       "3          89994 -0.555210 -0.555887 -0.556901 -0.557239 -0.556901 -0.555887   \n",
       "4          89995 -0.554196 -0.554534 -0.554872 -0.554872 -0.555210 -0.553858   \n",
       "...          ...       ...       ...       ...       ...       ...       ...   \n",
       "9006       98997 -2.409661 -2.407274 -2.408297 -2.430461 -2.395680 -2.400113   \n",
       "9007       98998 -2.412389 -2.401136 -2.397044 -2.403182 -2.412048 -2.417504   \n",
       "9008       98999 -2.414776 -2.418186 -2.423641 -2.407274 -2.422277 -2.412730   \n",
       "9009       99000 -2.406592 -2.417163 -2.402159 -2.458761 -2.407615 -2.415458   \n",
       "9010       99001 -2.399090 -2.409320 -2.395339 -2.418186 -2.406592 -2.410684   \n",
       "\n",
       "       Sample7   Sample8   Sample9  Sample10  \n",
       "0    -0.557916 -0.556901 -0.556901 -0.557916  \n",
       "1    -0.559607 -0.558930 -0.559607 -0.559268  \n",
       "2    -0.557578 -0.558254 -0.557578 -0.557916  \n",
       "3    -0.557239 -0.555887 -0.556225 -0.555549  \n",
       "4    -0.554534 -0.552843 -0.554872 -0.553181  \n",
       "...        ...       ...       ...       ...  \n",
       "9006 -2.403182 -2.444782 -2.400795 -2.419209  \n",
       "9007 -2.415458 -2.393975 -2.417504 -2.419209  \n",
       "9008 -2.419890 -2.405228 -2.433530 -2.418868  \n",
       "9009 -2.397726 -2.409661 -2.405910 -2.433530  \n",
       "9010 -2.432848 -2.400113 -2.407956 -2.427733  \n",
       "\n",
       "[9011 rows x 11 columns]"
      ]
     },
     "execution_count": 5,
     "metadata": {},
     "output_type": "execute_result"
    }
   ],
   "source": [
    "relabel(df)\n",
    "df"
   ]
  },
  {
   "cell_type": "code",
   "execution_count": 6,
   "metadata": {},
   "outputs": [],
   "source": [
    "relabel(df2)"
   ]
  },
  {
   "cell_type": "code",
   "execution_count": 7,
   "metadata": {},
   "outputs": [
    {
     "data": {
      "text/plain": [
       "(91000.0, 96000.0)"
      ]
     },
     "execution_count": 7,
     "metadata": {},
     "output_type": "execute_result"
    },
    {
     "data": {
      "image/png": "[encoded data removed]",
      "text/plain": [
       "<Figure size 720x720 with 1 Axes>"
      ]
     },
     "metadata": {
      "needs_background": "light"
     },
     "output_type": "display_data"
    }
   ],
   "source": [
    "# plot wavenumber by voltage\n",
    "plt.figure(figsize=(10,10))\n",
    "for j in range(1,11):\n",
    "    y = \"Sample\"+str(j)\n",
    "    plt.plot(df.Wavenumber,df[y],label=j)\n",
    "    plt.plot(df2.Wavenumber,-df2[y]+df[y].mean(),label=j)\n",
    "#     plt.ylim(df.Sample1.min(),df.Sample1.max()) # largest magnitude, lowest magnitude\n",
    "plt.xlim(91000,96000)\n",
    "# plt.yscale('symlog')\n",
    "# plt.legend()"
   ]
  },
  {
   "cell_type": "code",
   "execution_count": 8,
   "metadata": {},
   "outputs": [
    {
     "data": {
      "text/plain": [
       "1000   -2.575691\n",
       "1001   -2.556944\n",
       "1002   -2.571260\n",
       "1003   -2.552853\n",
       "1004   -2.572964\n",
       "          ...   \n",
       "5995   -2.509560\n",
       "5996   -2.512288\n",
       "5997   -2.547740\n",
       "5998   -2.502401\n",
       "5999   -2.494219\n",
       "Name: Sample1, Length: 5000, dtype: float64"
      ]
     },
     "execution_count": 8,
     "metadata": {},
     "output_type": "execute_result"
    }
   ],
   "source": [
    "df.Sample1[1000:6000]"
   ]
  },
  {
   "cell_type": "code",
   "execution_count": 9,
   "metadata": {},
   "outputs": [],
   "source": [
    "# get wavenumber for spesific voltage\n",
    "def get_wn(dataframe, val):\n",
    "    array = dataframe.query(f'Sample5 == {val}')\n",
    "    return array"
   ]
  },
  {
   "cell_type": "code",
   "execution_count": 10,
   "metadata": {},
   "outputs": [
    {
     "data": {
      "text/html": [
       "<div>\n",
       "<style scoped>\n",
       "    .dataframe tbody tr th:only-of-type {\n",
       "        vertical-align: middle;\n",
       "    }\n",
       "\n",
       "    .dataframe tbody tr th {\n",
       "        vertical-align: top;\n",
       "    }\n",
       "\n",
       "    .dataframe thead th {\n",
       "        text-align: right;\n",
       "    }\n",
       "</style>\n",
       "<table border=\"1\" class=\"dataframe\">\n",
       "  <thead>\n",
       "    <tr style=\"text-align: right;\">\n",
       "      <th></th>\n",
       "      <th>Wavenumber</th>\n",
       "      <th>Sample1</th>\n",
       "      <th>Sample2</th>\n",
       "      <th>Sample3</th>\n",
       "      <th>Sample4</th>\n",
       "      <th>Sample5</th>\n",
       "      <th>Sample6</th>\n",
       "      <th>Sample7</th>\n",
       "      <th>Sample8</th>\n",
       "      <th>Sample9</th>\n",
       "      <th>Sample10</th>\n",
       "    </tr>\n",
       "  </thead>\n",
       "  <tbody>\n",
       "  </tbody>\n",
       "</table>\n",
       "</div>"
      ],
      "text/plain": [
       "Empty DataFrame\n",
       "Columns: [Wavenumber, Sample1, Sample2, Sample3, Sample4, Sample5, Sample6, Sample7, Sample8, Sample9, Sample10]\n",
       "Index: []"
      ]
     },
     "execution_count": 10,
     "metadata": {},
     "output_type": "execute_result"
    }
   ],
   "source": [
    "# getting the largest magnitude value wavenumber\n",
    "lm_val= df.Sample1.min()\n",
    "get_wn(df, lm_val)"
   ]
  },
  {
   "cell_type": "code",
   "execution_count": 11,
   "metadata": {},
   "outputs": [
    {
     "data": {
      "text/html": [
       "<div>\n",
       "<style scoped>\n",
       "    .dataframe tbody tr th:only-of-type {\n",
       "        vertical-align: middle;\n",
       "    }\n",
       "\n",
       "    .dataframe tbody tr th {\n",
       "        vertical-align: top;\n",
       "    }\n",
       "\n",
       "    .dataframe thead th {\n",
       "        text-align: right;\n",
       "    }\n",
       "</style>\n",
       "<table border=\"1\" class=\"dataframe\">\n",
       "  <thead>\n",
       "    <tr style=\"text-align: right;\">\n",
       "      <th></th>\n",
       "      <th>Wavenumber</th>\n",
       "      <th>Sample1</th>\n",
       "      <th>Sample2</th>\n",
       "      <th>Sample3</th>\n",
       "      <th>Sample4</th>\n",
       "      <th>Sample5</th>\n",
       "      <th>Sample6</th>\n",
       "      <th>Sample7</th>\n",
       "      <th>Sample8</th>\n",
       "      <th>Sample9</th>\n",
       "      <th>Sample10</th>\n",
       "    </tr>\n",
       "  </thead>\n",
       "  <tbody>\n",
       "  </tbody>\n",
       "</table>\n",
       "</div>"
      ],
      "text/plain": [
       "Empty DataFrame\n",
       "Columns: [Wavenumber, Sample1, Sample2, Sample3, Sample4, Sample5, Sample6, Sample7, Sample8, Sample9, Sample10]\n",
       "Index: []"
      ]
     },
     "execution_count": 11,
     "metadata": {},
     "output_type": "execute_result"
    }
   ],
   "source": [
    "# getting the smallest magnitude value wavenumber\n",
    "sm_val= df.Sample1.max()\n",
    "get_wn(df, sm_val)"
   ]
  },
  {
   "cell_type": "markdown",
   "metadata": {},
   "source": [
    "minus noise"
   ]
  },
  {
   "cell_type": "code",
   "execution_count": 12,
   "metadata": {},
   "outputs": [
    {
     "data": {
      "text/plain": [
       "array([   1,    3,    6, ..., 4990, 4992, 4995])"
      ]
     },
     "execution_count": 12,
     "metadata": {},
     "output_type": "execute_result"
    }
   ],
   "source": [
    "find_peaks(df.Sample1[1000:6000])[0]"
   ]
  },
  {
   "cell_type": "code",
   "execution_count": 18,
   "metadata": {},
   "outputs": [],
   "source": [
    "h =df2.Sample1[94000-df.Wavenumber.min()]"
   ]
  },
  {
   "cell_type": "code",
   "execution_count": 19,
   "metadata": {},
   "outputs": [
    {
     "data": {
      "text/plain": [
       "1000    0.174789\n",
       "1001    0.180144\n",
       "1002    0.177801\n",
       "1003    0.169433\n",
       "1004    0.172780\n",
       "          ...   \n",
       "5995    0.196208\n",
       "5996    0.185165\n",
       "5997    0.190854\n",
       "5998    0.177801\n",
       "5999    0.173785\n",
       "Name: Sample1, Length: 5000, dtype: float64"
      ]
     },
     "execution_count": 19,
     "metadata": {},
     "output_type": "execute_result"
    }
   ],
   "source": [
    "x = (df2.Sample1[1000:6000])\n",
    "x.mean\n",
    "x"
   ]
  },
  {
   "cell_type": "code",
   "execution_count": 20,
   "metadata": {},
   "outputs": [],
   "source": [
    "def get_peaks(data,height):\n",
    "    l = []\n",
    "    wn = []\n",
    "    for i in range(1000,len(data)-1):\n",
    "        if data[i] > height and (data[i] > data[i+1]) and (data[i] > data[i-1]) and ((data[i]-data[i+1])>-0.2):\n",
    "            \n",
    "            l.append(data[i])\n",
    "            wn.append(i+89991)\n",
    "\n",
    "    return wn, l"
   ]
  },
  {
   "cell_type": "code",
   "execution_count": 21,
   "metadata": {},
   "outputs": [
    {
     "ename": "NameError",
     "evalue": "name 'get_avg' is not defined",
     "output_type": "error",
     "traceback": [
      "\u001b[0;31m---------------------------------------------------------------------------\u001b[0m",
      "\u001b[0;31mNameError\u001b[0m                                 Traceback (most recent call last)",
      "\u001b[0;32m<ipython-input-21-526d2e466dd0>\u001b[0m in \u001b[0;36m<module>\u001b[0;34m\u001b[0m\n\u001b[0;32m----> 1\u001b[0;31m \u001b[0mget_peaks\u001b[0m\u001b[0;34m(\u001b[0m\u001b[0mget_avg\u001b[0m\u001b[0;34m(\u001b[0m\u001b[0mx\u001b[0m\u001b[0;34m)\u001b[0m\u001b[0;34m,\u001b[0m\u001b[0mx\u001b[0m\u001b[0;34m.\u001b[0m\u001b[0mmean\u001b[0m\u001b[0;34m(\u001b[0m\u001b[0;34m)\u001b[0m\u001b[0;34m)\u001b[0m\u001b[0;34m\u001b[0m\u001b[0;34m\u001b[0m\u001b[0m\n\u001b[0m",
      "\u001b[0;31mNameError\u001b[0m: name 'get_avg' is not defined"
     ]
    }
   ],
   "source": [
    "get_peaks(get_avg(x),x.mean())"
   ]
  },
  {
   "cell_type": "code",
   "execution_count": 23,
   "metadata": {},
   "outputs": [
    {
     "name": "stdout",
     "output_type": "stream",
     "text": [
      "{'peak_heights': array([0.180144, 0.189181, 0.17981 , ..., 0.190185, 0.196208, 0.190854])}\n"
     ]
    },
    {
     "data": {
      "text/plain": [
       "(91000.0, 96000.0)"
      ]
     },
     "execution_count": 23,
     "metadata": {},
     "output_type": "execute_result"
    },
    {
     "data": {
      "image/png": "[encoded data removed]",
      "text/plain": [
       "<Figure size 432x288 with 1 Axes>"
      ]
     },
     "metadata": {
      "needs_background": "light"
     },
     "output_type": "display_data"
    }
   ],
   "source": [
    "peaks, f = find_peaks(x, height=h)\n",
    "print(f)\n",
    "w,p  = get_peaks(x, x.mean())\n",
    "plt.plot(df2.Wavenumber[1000:6000], -x)\n",
    "plt.plot(w, p,'x')\n",
    "\n",
    "# plt.plot(peaks+df.Wavenumber.min()+1000, f['peak_heights']-x.mean(), \"x\")\n",
    "# plt.plot(peaks+df.Wavenumber.min()+1000, x[peaks], \"x\")\n",
    "# plt.plot(np.zeros_like(x), \"--\", color=\"gray\")\n",
    "# plt.yscale('symlog')\n",
    "plt.xlim(91000,96000)\n",
    "# plt.show()"
   ]
  },
  {
   "cell_type": "code",
   "execution_count": null,
   "metadata": {},
   "outputs": [],
   "source": [
    "def make_avg(dataf):\n",
    "    blank = np.zeros(np.size(dataf.Wavenumber[1000:6000]))\n",
    "\n",
    "    for j in range(1,11):\n",
    "        name = \"Sample\"+str(j)\n",
    "        blank += dataf[name][1000:6000]\n",
    "    return blank/10\n"
   ]
  },
  {
   "cell_type": "code",
   "execution_count": null,
   "metadata": {},
   "outputs": [],
   "source": [
    "get_peaks(make_avg(df2),np.mean(make_avg(df2)))"
   ]
  },
  {
   "cell_type": "code",
   "execution_count": null,
   "metadata": {},
   "outputs": [],
   "source": [
    "for p, i in enumerate(data):\n",
    "    try:\n",
    "        p[i]-p[i+1]"
   ]
  }
 ],
 "metadata": {
  "kernelspec": {
   "display_name": "Python 3",
   "language": "python",
   "name": "python3"
  },
  "language_info": {
   "codemirror_mode": {
    "name": "ipython",
    "version": 3
   },
   "file_extension": ".py",
   "mimetype": "text/x-python",
   "name": "python",
   "nbconvert_exporter": "python",
   "pygments_lexer": "ipython3",
   "version": "3.8.3"
  }
 },
 "nbformat": 4,
 "nbformat_minor": 4
}
