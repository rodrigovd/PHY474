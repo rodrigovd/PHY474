{
 "cells": [
  {
   "cell_type": "markdown",
   "metadata": {},
   "source": [
    "## Iodine Florecense Spectroscopy"
   ]
  },
  {
   "cell_type": "code",
   "execution_count": 1,
   "metadata": {},
   "outputs": [],
   "source": [
    "import numpy as np\n",
    "import scipy as sp\n",
    "import pandas as pd\n",
    "import matplotlib.pyplot as plt\n",
    "from scipy.signal import find_peaks"
   ]
  },
  {
   "cell_type": "markdown",
   "metadata": {},
   "source": [
    "read data collected tron NI labview"
   ]
  },
  {
   "cell_type": "code",
   "execution_count": 48,
   "metadata": {},
   "outputs": [],
   "source": [
    "df = pd.read_csv('iodine run3.txt',header = None,delimiter='\\t')\n",
    "df2 = pd.read_csv('iodine run4 driven.txt.txt',header = None,delimiter='\\t')"
   ]
  },
  {
   "cell_type": "code",
   "execution_count": 49,
   "metadata": {},
   "outputs": [
    {
     "data": {
      "text/html": [
       "<div>\n",
       "<style scoped>\n",
       "    .dataframe tbody tr th:only-of-type {\n",
       "        vertical-align: middle;\n",
       "    }\n",
       "\n",
       "    .dataframe tbody tr th {\n",
       "        vertical-align: top;\n",
       "    }\n",
       "\n",
       "    .dataframe thead th {\n",
       "        text-align: right;\n",
       "    }\n",
       "</style>\n",
       "<table border=\"1\" class=\"dataframe\">\n",
       "  <thead>\n",
       "    <tr style=\"text-align: right;\">\n",
       "      <th></th>\n",
       "      <th>0</th>\n",
       "      <th>1</th>\n",
       "      <th>2</th>\n",
       "      <th>3</th>\n",
       "      <th>4</th>\n",
       "      <th>5</th>\n",
       "      <th>6</th>\n",
       "      <th>7</th>\n",
       "      <th>8</th>\n",
       "      <th>9</th>\n",
       "      <th>10</th>\n",
       "    </tr>\n",
       "  </thead>\n",
       "  <tbody>\n",
       "    <tr>\n",
       "      <th>0</th>\n",
       "      <td>90964</td>\n",
       "      <td>0.252397</td>\n",
       "      <td>0.245377</td>\n",
       "      <td>0.257411</td>\n",
       "      <td>0.255406</td>\n",
       "      <td>0.257411</td>\n",
       "      <td>0.250057</td>\n",
       "      <td>0.244374</td>\n",
       "      <td>0.275459</td>\n",
       "      <td>0.239358</td>\n",
       "      <td>0.271449</td>\n",
       "    </tr>\n",
       "    <tr>\n",
       "      <th>1</th>\n",
       "      <td>90965</td>\n",
       "      <td>0.269110</td>\n",
       "      <td>0.243036</td>\n",
       "      <td>0.269778</td>\n",
       "      <td>0.240027</td>\n",
       "      <td>0.265099</td>\n",
       "      <td>0.248720</td>\n",
       "      <td>0.252732</td>\n",
       "      <td>0.254069</td>\n",
       "      <td>0.261423</td>\n",
       "      <td>0.251394</td>\n",
       "    </tr>\n",
       "    <tr>\n",
       "      <th>2</th>\n",
       "      <td>90966</td>\n",
       "      <td>0.262425</td>\n",
       "      <td>0.244374</td>\n",
       "      <td>0.257746</td>\n",
       "      <td>0.248720</td>\n",
       "      <td>0.263762</td>\n",
       "      <td>0.227989</td>\n",
       "      <td>0.255740</td>\n",
       "      <td>0.249389</td>\n",
       "      <td>0.252732</td>\n",
       "      <td>0.249389</td>\n",
       "    </tr>\n",
       "    <tr>\n",
       "      <th>3</th>\n",
       "      <td>90967</td>\n",
       "      <td>0.238690</td>\n",
       "      <td>0.260086</td>\n",
       "      <td>0.252063</td>\n",
       "      <td>0.261423</td>\n",
       "      <td>0.247383</td>\n",
       "      <td>0.250391</td>\n",
       "      <td>0.258080</td>\n",
       "      <td>0.246380</td>\n",
       "      <td>0.266102</td>\n",
       "      <td>0.242368</td>\n",
       "    </tr>\n",
       "    <tr>\n",
       "      <th>4</th>\n",
       "      <td>90968</td>\n",
       "      <td>0.241699</td>\n",
       "      <td>0.270112</td>\n",
       "      <td>0.239024</td>\n",
       "      <td>0.267104</td>\n",
       "      <td>0.257411</td>\n",
       "      <td>0.252397</td>\n",
       "      <td>0.248051</td>\n",
       "      <td>0.255740</td>\n",
       "      <td>0.267773</td>\n",
       "      <td>0.243371</td>\n",
       "    </tr>\n",
       "    <tr>\n",
       "      <th>...</th>\n",
       "      <td>...</td>\n",
       "      <td>...</td>\n",
       "      <td>...</td>\n",
       "      <td>...</td>\n",
       "      <td>...</td>\n",
       "      <td>...</td>\n",
       "      <td>...</td>\n",
       "      <td>...</td>\n",
       "      <td>...</td>\n",
       "      <td>...</td>\n",
       "      <td>...</td>\n",
       "    </tr>\n",
       "    <tr>\n",
       "      <th>5033</th>\n",
       "      <td>95997</td>\n",
       "      <td>0.263094</td>\n",
       "      <td>0.243371</td>\n",
       "      <td>0.274791</td>\n",
       "      <td>0.254403</td>\n",
       "      <td>0.261423</td>\n",
       "      <td>0.255740</td>\n",
       "      <td>0.258414</td>\n",
       "      <td>0.255406</td>\n",
       "      <td>0.242702</td>\n",
       "      <td>0.261423</td>\n",
       "    </tr>\n",
       "    <tr>\n",
       "      <th>5034</th>\n",
       "      <td>95998</td>\n",
       "      <td>0.261757</td>\n",
       "      <td>0.233339</td>\n",
       "      <td>0.250057</td>\n",
       "      <td>0.229661</td>\n",
       "      <td>0.254737</td>\n",
       "      <td>0.256074</td>\n",
       "      <td>0.244039</td>\n",
       "      <td>0.256074</td>\n",
       "      <td>0.243371</td>\n",
       "      <td>0.261757</td>\n",
       "    </tr>\n",
       "    <tr>\n",
       "      <th>5035</th>\n",
       "      <td>95999</td>\n",
       "      <td>0.244708</td>\n",
       "      <td>0.244374</td>\n",
       "      <td>0.246380</td>\n",
       "      <td>0.265099</td>\n",
       "      <td>0.236683</td>\n",
       "      <td>0.260754</td>\n",
       "      <td>0.242368</td>\n",
       "      <td>0.256743</td>\n",
       "      <td>0.242368</td>\n",
       "      <td>0.250726</td>\n",
       "    </tr>\n",
       "    <tr>\n",
       "      <th>5036</th>\n",
       "      <td>96000</td>\n",
       "      <td>0.240696</td>\n",
       "      <td>0.259417</td>\n",
       "      <td>0.235680</td>\n",
       "      <td>0.243371</td>\n",
       "      <td>0.243705</td>\n",
       "      <td>0.245377</td>\n",
       "      <td>0.249389</td>\n",
       "      <td>0.237686</td>\n",
       "      <td>0.263094</td>\n",
       "      <td>0.227320</td>\n",
       "    </tr>\n",
       "    <tr>\n",
       "      <th>5037</th>\n",
       "      <td>96001</td>\n",
       "      <td>0.239024</td>\n",
       "      <td>0.245377</td>\n",
       "      <td>0.246714</td>\n",
       "      <td>0.233339</td>\n",
       "      <td>0.254737</td>\n",
       "      <td>0.239024</td>\n",
       "      <td>0.256074</td>\n",
       "      <td>0.227989</td>\n",
       "      <td>0.251060</td>\n",
       "      <td>0.249054</td>\n",
       "    </tr>\n",
       "  </tbody>\n",
       "</table>\n",
       "<p>5038 rows × 11 columns</p>\n",
       "</div>"
      ],
      "text/plain": [
       "         0         1         2         3         4         5         6   \\\n",
       "0     90964  0.252397  0.245377  0.257411  0.255406  0.257411  0.250057   \n",
       "1     90965  0.269110  0.243036  0.269778  0.240027  0.265099  0.248720   \n",
       "2     90966  0.262425  0.244374  0.257746  0.248720  0.263762  0.227989   \n",
       "3     90967  0.238690  0.260086  0.252063  0.261423  0.247383  0.250391   \n",
       "4     90968  0.241699  0.270112  0.239024  0.267104  0.257411  0.252397   \n",
       "...     ...       ...       ...       ...       ...       ...       ...   \n",
       "5033  95997  0.263094  0.243371  0.274791  0.254403  0.261423  0.255740   \n",
       "5034  95998  0.261757  0.233339  0.250057  0.229661  0.254737  0.256074   \n",
       "5035  95999  0.244708  0.244374  0.246380  0.265099  0.236683  0.260754   \n",
       "5036  96000  0.240696  0.259417  0.235680  0.243371  0.243705  0.245377   \n",
       "5037  96001  0.239024  0.245377  0.246714  0.233339  0.254737  0.239024   \n",
       "\n",
       "            7         8         9         10  \n",
       "0     0.244374  0.275459  0.239358  0.271449  \n",
       "1     0.252732  0.254069  0.261423  0.251394  \n",
       "2     0.255740  0.249389  0.252732  0.249389  \n",
       "3     0.258080  0.246380  0.266102  0.242368  \n",
       "4     0.248051  0.255740  0.267773  0.243371  \n",
       "...        ...       ...       ...       ...  \n",
       "5033  0.258414  0.255406  0.242702  0.261423  \n",
       "5034  0.244039  0.256074  0.243371  0.261757  \n",
       "5035  0.242368  0.256743  0.242368  0.250726  \n",
       "5036  0.249389  0.237686  0.263094  0.227320  \n",
       "5037  0.256074  0.227989  0.251060  0.249054  \n",
       "\n",
       "[5038 rows x 11 columns]"
      ]
     },
     "execution_count": 49,
     "metadata": {},
     "output_type": "execute_result"
    }
   ],
   "source": [
    "df"
   ]
  },
  {
   "cell_type": "code",
   "execution_count": 50,
   "metadata": {},
   "outputs": [],
   "source": [
    "# relabel data columns\n",
    "def relabel(dataframe):\n",
    "    for i in range(0,12):\n",
    "        if i == 0:\n",
    "            dataframe.rename(columns = {i:'Wavenumber'}, inplace = True)\n",
    "        else:\n",
    "            dataframe.rename(columns = {i:'Sample'+str(i)}, inplace = True)"
   ]
  },
  {
   "cell_type": "code",
   "execution_count": 51,
   "metadata": {},
   "outputs": [
    {
     "data": {
      "text/html": [
       "<div>\n",
       "<style scoped>\n",
       "    .dataframe tbody tr th:only-of-type {\n",
       "        vertical-align: middle;\n",
       "    }\n",
       "\n",
       "    .dataframe tbody tr th {\n",
       "        vertical-align: top;\n",
       "    }\n",
       "\n",
       "    .dataframe thead th {\n",
       "        text-align: right;\n",
       "    }\n",
       "</style>\n",
       "<table border=\"1\" class=\"dataframe\">\n",
       "  <thead>\n",
       "    <tr style=\"text-align: right;\">\n",
       "      <th></th>\n",
       "      <th>Wavenumber</th>\n",
       "      <th>Sample1</th>\n",
       "      <th>Sample2</th>\n",
       "      <th>Sample3</th>\n",
       "      <th>Sample4</th>\n",
       "      <th>Sample5</th>\n",
       "      <th>Sample6</th>\n",
       "      <th>Sample7</th>\n",
       "      <th>Sample8</th>\n",
       "      <th>Sample9</th>\n",
       "      <th>Sample10</th>\n",
       "    </tr>\n",
       "  </thead>\n",
       "  <tbody>\n",
       "    <tr>\n",
       "      <th>0</th>\n",
       "      <td>90964</td>\n",
       "      <td>0.252397</td>\n",
       "      <td>0.245377</td>\n",
       "      <td>0.257411</td>\n",
       "      <td>0.255406</td>\n",
       "      <td>0.257411</td>\n",
       "      <td>0.250057</td>\n",
       "      <td>0.244374</td>\n",
       "      <td>0.275459</td>\n",
       "      <td>0.239358</td>\n",
       "      <td>0.271449</td>\n",
       "    </tr>\n",
       "    <tr>\n",
       "      <th>1</th>\n",
       "      <td>90965</td>\n",
       "      <td>0.269110</td>\n",
       "      <td>0.243036</td>\n",
       "      <td>0.269778</td>\n",
       "      <td>0.240027</td>\n",
       "      <td>0.265099</td>\n",
       "      <td>0.248720</td>\n",
       "      <td>0.252732</td>\n",
       "      <td>0.254069</td>\n",
       "      <td>0.261423</td>\n",
       "      <td>0.251394</td>\n",
       "    </tr>\n",
       "    <tr>\n",
       "      <th>2</th>\n",
       "      <td>90966</td>\n",
       "      <td>0.262425</td>\n",
       "      <td>0.244374</td>\n",
       "      <td>0.257746</td>\n",
       "      <td>0.248720</td>\n",
       "      <td>0.263762</td>\n",
       "      <td>0.227989</td>\n",
       "      <td>0.255740</td>\n",
       "      <td>0.249389</td>\n",
       "      <td>0.252732</td>\n",
       "      <td>0.249389</td>\n",
       "    </tr>\n",
       "    <tr>\n",
       "      <th>3</th>\n",
       "      <td>90967</td>\n",
       "      <td>0.238690</td>\n",
       "      <td>0.260086</td>\n",
       "      <td>0.252063</td>\n",
       "      <td>0.261423</td>\n",
       "      <td>0.247383</td>\n",
       "      <td>0.250391</td>\n",
       "      <td>0.258080</td>\n",
       "      <td>0.246380</td>\n",
       "      <td>0.266102</td>\n",
       "      <td>0.242368</td>\n",
       "    </tr>\n",
       "    <tr>\n",
       "      <th>4</th>\n",
       "      <td>90968</td>\n",
       "      <td>0.241699</td>\n",
       "      <td>0.270112</td>\n",
       "      <td>0.239024</td>\n",
       "      <td>0.267104</td>\n",
       "      <td>0.257411</td>\n",
       "      <td>0.252397</td>\n",
       "      <td>0.248051</td>\n",
       "      <td>0.255740</td>\n",
       "      <td>0.267773</td>\n",
       "      <td>0.243371</td>\n",
       "    </tr>\n",
       "    <tr>\n",
       "      <th>...</th>\n",
       "      <td>...</td>\n",
       "      <td>...</td>\n",
       "      <td>...</td>\n",
       "      <td>...</td>\n",
       "      <td>...</td>\n",
       "      <td>...</td>\n",
       "      <td>...</td>\n",
       "      <td>...</td>\n",
       "      <td>...</td>\n",
       "      <td>...</td>\n",
       "      <td>...</td>\n",
       "    </tr>\n",
       "    <tr>\n",
       "      <th>5033</th>\n",
       "      <td>95997</td>\n",
       "      <td>0.263094</td>\n",
       "      <td>0.243371</td>\n",
       "      <td>0.274791</td>\n",
       "      <td>0.254403</td>\n",
       "      <td>0.261423</td>\n",
       "      <td>0.255740</td>\n",
       "      <td>0.258414</td>\n",
       "      <td>0.255406</td>\n",
       "      <td>0.242702</td>\n",
       "      <td>0.261423</td>\n",
       "    </tr>\n",
       "    <tr>\n",
       "      <th>5034</th>\n",
       "      <td>95998</td>\n",
       "      <td>0.261757</td>\n",
       "      <td>0.233339</td>\n",
       "      <td>0.250057</td>\n",
       "      <td>0.229661</td>\n",
       "      <td>0.254737</td>\n",
       "      <td>0.256074</td>\n",
       "      <td>0.244039</td>\n",
       "      <td>0.256074</td>\n",
       "      <td>0.243371</td>\n",
       "      <td>0.261757</td>\n",
       "    </tr>\n",
       "    <tr>\n",
       "      <th>5035</th>\n",
       "      <td>95999</td>\n",
       "      <td>0.244708</td>\n",
       "      <td>0.244374</td>\n",
       "      <td>0.246380</td>\n",
       "      <td>0.265099</td>\n",
       "      <td>0.236683</td>\n",
       "      <td>0.260754</td>\n",
       "      <td>0.242368</td>\n",
       "      <td>0.256743</td>\n",
       "      <td>0.242368</td>\n",
       "      <td>0.250726</td>\n",
       "    </tr>\n",
       "    <tr>\n",
       "      <th>5036</th>\n",
       "      <td>96000</td>\n",
       "      <td>0.240696</td>\n",
       "      <td>0.259417</td>\n",
       "      <td>0.235680</td>\n",
       "      <td>0.243371</td>\n",
       "      <td>0.243705</td>\n",
       "      <td>0.245377</td>\n",
       "      <td>0.249389</td>\n",
       "      <td>0.237686</td>\n",
       "      <td>0.263094</td>\n",
       "      <td>0.227320</td>\n",
       "    </tr>\n",
       "    <tr>\n",
       "      <th>5037</th>\n",
       "      <td>96001</td>\n",
       "      <td>0.239024</td>\n",
       "      <td>0.245377</td>\n",
       "      <td>0.246714</td>\n",
       "      <td>0.233339</td>\n",
       "      <td>0.254737</td>\n",
       "      <td>0.239024</td>\n",
       "      <td>0.256074</td>\n",
       "      <td>0.227989</td>\n",
       "      <td>0.251060</td>\n",
       "      <td>0.249054</td>\n",
       "    </tr>\n",
       "  </tbody>\n",
       "</table>\n",
       "<p>5038 rows × 11 columns</p>\n",
       "</div>"
      ],
      "text/plain": [
       "      Wavenumber   Sample1   Sample2   Sample3   Sample4   Sample5   Sample6  \\\n",
       "0          90964  0.252397  0.245377  0.257411  0.255406  0.257411  0.250057   \n",
       "1          90965  0.269110  0.243036  0.269778  0.240027  0.265099  0.248720   \n",
       "2          90966  0.262425  0.244374  0.257746  0.248720  0.263762  0.227989   \n",
       "3          90967  0.238690  0.260086  0.252063  0.261423  0.247383  0.250391   \n",
       "4          90968  0.241699  0.270112  0.239024  0.267104  0.257411  0.252397   \n",
       "...          ...       ...       ...       ...       ...       ...       ...   \n",
       "5033       95997  0.263094  0.243371  0.274791  0.254403  0.261423  0.255740   \n",
       "5034       95998  0.261757  0.233339  0.250057  0.229661  0.254737  0.256074   \n",
       "5035       95999  0.244708  0.244374  0.246380  0.265099  0.236683  0.260754   \n",
       "5036       96000  0.240696  0.259417  0.235680  0.243371  0.243705  0.245377   \n",
       "5037       96001  0.239024  0.245377  0.246714  0.233339  0.254737  0.239024   \n",
       "\n",
       "       Sample7   Sample8   Sample9  Sample10  \n",
       "0     0.244374  0.275459  0.239358  0.271449  \n",
       "1     0.252732  0.254069  0.261423  0.251394  \n",
       "2     0.255740  0.249389  0.252732  0.249389  \n",
       "3     0.258080  0.246380  0.266102  0.242368  \n",
       "4     0.248051  0.255740  0.267773  0.243371  \n",
       "...        ...       ...       ...       ...  \n",
       "5033  0.258414  0.255406  0.242702  0.261423  \n",
       "5034  0.244039  0.256074  0.243371  0.261757  \n",
       "5035  0.242368  0.256743  0.242368  0.250726  \n",
       "5036  0.249389  0.237686  0.263094  0.227320  \n",
       "5037  0.256074  0.227989  0.251060  0.249054  \n",
       "\n",
       "[5038 rows x 11 columns]"
      ]
     },
     "execution_count": 51,
     "metadata": {},
     "output_type": "execute_result"
    }
   ],
   "source": [
    "relabel(df)\n",
    "df"
   ]
  },
  {
   "cell_type": "code",
   "execution_count": 52,
   "metadata": {},
   "outputs": [],
   "source": [
    "relabel(df2)"
   ]
  },
  {
   "cell_type": "code",
   "execution_count": 57,
   "metadata": {},
   "outputs": [],
   "source": [
    "mn = df.Sample10[95000-89991:96000-89991].mean()"
   ]
  },
  {
   "cell_type": "code",
   "execution_count": 71,
   "metadata": {},
   "outputs": [
    {
     "data": {
      "text/plain": [
       "(91000.0, 96000.0)"
      ]
     },
     "execution_count": 71,
     "metadata": {},
     "output_type": "execute_result"
    },
    {
     "data": {
      "image/png": "[encoded data removed]",
      "text/plain": [
       "<Figure size 720x720 with 1 Axes>"
      ]
     },
     "metadata": {
      "needs_background": "light"
     },
     "output_type": "display_data"
    }
   ],
   "source": [
    "# plot wavenumber by voltage\n",
    "plt.figure(figsize=(10,10))\n",
    "for j in range(1,11):\n",
    "    y = \"Sample\"+str(j)\n",
    "    plt.plot(df.Wavenumber,-df[y]/df[y].mean() +0.065,label=j)\n",
    "#     plt.plot(df2.Wavenumber,-df2[y]+df2[y].mean(),label=j)\n",
    "#     plt.ylim(df.Sample1.min(),df.Sample1.max()) # largest magnitude, lowest magnitude\n",
    "plt.xlim(91000,96000)\n",
    "# plt.ylim(0,1)\n",
    "# plt.yscale('symlog')\n",
    "# plt.legend()"
   ]
  },
  {
   "cell_type": "code",
   "execution_count": 8,
   "metadata": {},
   "outputs": [
    {
     "data": {
      "text/plain": [
       "1000   -2.575691\n",
       "1001   -2.556944\n",
       "1002   -2.571260\n",
       "1003   -2.552853\n",
       "1004   -2.572964\n",
       "          ...   \n",
       "5995   -2.509560\n",
       "5996   -2.512288\n",
       "5997   -2.547740\n",
       "5998   -2.502401\n",
       "5999   -2.494219\n",
       "Name: Sample1, Length: 5000, dtype: float64"
      ]
     },
     "execution_count": 8,
     "metadata": {},
     "output_type": "execute_result"
    }
   ],
   "source": [
    "df.Sample1[1000:6000]"
   ]
  },
  {
   "cell_type": "code",
   "execution_count": 9,
   "metadata": {},
   "outputs": [],
   "source": [
    "# get wavenumber for spesific voltage\n",
    "def get_wn(dataframe, val):\n",
    "    array = dataframe.query(f'Sample5 == {val}')\n",
    "    return array"
   ]
  },
  {
   "cell_type": "code",
   "execution_count": 10,
   "metadata": {},
   "outputs": [
    {
     "data": {
      "text/html": [
       "<div>\n",
       "<style scoped>\n",
       "    .dataframe tbody tr th:only-of-type {\n",
       "        vertical-align: middle;\n",
       "    }\n",
       "\n",
       "    .dataframe tbody tr th {\n",
       "        vertical-align: top;\n",
       "    }\n",
       "\n",
       "    .dataframe thead th {\n",
       "        text-align: right;\n",
       "    }\n",
       "</style>\n",
       "<table border=\"1\" class=\"dataframe\">\n",
       "  <thead>\n",
       "    <tr style=\"text-align: right;\">\n",
       "      <th></th>\n",
       "      <th>Wavenumber</th>\n",
       "      <th>Sample1</th>\n",
       "      <th>Sample2</th>\n",
       "      <th>Sample3</th>\n",
       "      <th>Sample4</th>\n",
       "      <th>Sample5</th>\n",
       "      <th>Sample6</th>\n",
       "      <th>Sample7</th>\n",
       "      <th>Sample8</th>\n",
       "      <th>Sample9</th>\n",
       "      <th>Sample10</th>\n",
       "    </tr>\n",
       "  </thead>\n",
       "  <tbody>\n",
       "  </tbody>\n",
       "</table>\n",
       "</div>"
      ],
      "text/plain": [
       "Empty DataFrame\n",
       "Columns: [Wavenumber, Sample1, Sample2, Sample3, Sample4, Sample5, Sample6, Sample7, Sample8, Sample9, Sample10]\n",
       "Index: []"
      ]
     },
     "execution_count": 10,
     "metadata": {},
     "output_type": "execute_result"
    }
   ],
   "source": [
    "# getting the largest magnitude value wavenumber\n",
    "lm_val= df.Sample1.min()\n",
    "get_wn(df, lm_val)"
   ]
  },
  {
   "cell_type": "code",
   "execution_count": 11,
   "metadata": {},
   "outputs": [
    {
     "data": {
      "text/html": [
       "<div>\n",
       "<style scoped>\n",
       "    .dataframe tbody tr th:only-of-type {\n",
       "        vertical-align: middle;\n",
       "    }\n",
       "\n",
       "    .dataframe tbody tr th {\n",
       "        vertical-align: top;\n",
       "    }\n",
       "\n",
       "    .dataframe thead th {\n",
       "        text-align: right;\n",
       "    }\n",
       "</style>\n",
       "<table border=\"1\" class=\"dataframe\">\n",
       "  <thead>\n",
       "    <tr style=\"text-align: right;\">\n",
       "      <th></th>\n",
       "      <th>Wavenumber</th>\n",
       "      <th>Sample1</th>\n",
       "      <th>Sample2</th>\n",
       "      <th>Sample3</th>\n",
       "      <th>Sample4</th>\n",
       "      <th>Sample5</th>\n",
       "      <th>Sample6</th>\n",
       "      <th>Sample7</th>\n",
       "      <th>Sample8</th>\n",
       "      <th>Sample9</th>\n",
       "      <th>Sample10</th>\n",
       "    </tr>\n",
       "  </thead>\n",
       "  <tbody>\n",
       "  </tbody>\n",
       "</table>\n",
       "</div>"
      ],
      "text/plain": [
       "Empty DataFrame\n",
       "Columns: [Wavenumber, Sample1, Sample2, Sample3, Sample4, Sample5, Sample6, Sample7, Sample8, Sample9, Sample10]\n",
       "Index: []"
      ]
     },
     "execution_count": 11,
     "metadata": {},
     "output_type": "execute_result"
    }
   ],
   "source": [
    "# getting the smallest magnitude value wavenumber\n",
    "sm_val= df.Sample1.max()\n",
    "get_wn(df, sm_val)"
   ]
  },
  {
   "cell_type": "markdown",
   "metadata": {},
   "source": [
    "minus noise"
   ]
  },
  {
   "cell_type": "code",
   "execution_count": 12,
   "metadata": {},
   "outputs": [
    {
     "data": {
      "text/plain": [
       "array([   1,    3,    6, ..., 4990, 4992, 4995])"
      ]
     },
     "execution_count": 12,
     "metadata": {},
     "output_type": "execute_result"
    }
   ],
   "source": [
    "find_peaks(df.Sample1[1000:6000])[0]"
   ]
  },
  {
   "cell_type": "code",
   "execution_count": 13,
   "metadata": {},
   "outputs": [],
   "source": [
    "h =df2.Sample1[94000-df.Wavenumber.min()]"
   ]
  },
  {
   "cell_type": "code",
   "execution_count": 14,
   "metadata": {},
   "outputs": [
    {
     "data": {
      "text/plain": [
       "1000    0.174789\n",
       "1001    0.180144\n",
       "1002    0.177801\n",
       "1003    0.169433\n",
       "1004    0.172780\n",
       "          ...   \n",
       "5995    0.196208\n",
       "5996    0.185165\n",
       "5997    0.190854\n",
       "5998    0.177801\n",
       "5999    0.173785\n",
       "Name: Sample1, Length: 5000, dtype: float64"
      ]
     },
     "execution_count": 14,
     "metadata": {},
     "output_type": "execute_result"
    }
   ],
   "source": [
    "x = (df2.Sample1[1000:6000])\n",
    "x.mean\n",
    "x"
   ]
  },
  {
   "cell_type": "code",
   "execution_count": 15,
   "metadata": {},
   "outputs": [],
   "source": [
    "def get_peaks(data,height):\n",
    "    l = []\n",
    "    wn = []\n",
    "    for i in range(1000,len(data)-1):\n",
    "        if data[i] > height and (data[i] > data[i+1]) and (data[i] > data[i-1]) and ((data[i]-data[i+1])>-0.2):\n",
    "            \n",
    "            l.append(data[i])\n",
    "            wn.append(i+89991)\n",
    "\n",
    "    return wn, l"
   ]
  },
  {
   "cell_type": "code",
   "execution_count": 16,
   "metadata": {},
   "outputs": [
    {
     "ename": "NameError",
     "evalue": "name 'get_avg' is not defined",
     "output_type": "error",
     "traceback": [
      "\u001b[0;31m---------------------------------------------------------------------------\u001b[0m",
      "\u001b[0;31mNameError\u001b[0m                                 Traceback (most recent call last)",
      "\u001b[0;32m<ipython-input-16-526d2e466dd0>\u001b[0m in \u001b[0;36m<module>\u001b[0;34m\u001b[0m\n\u001b[0;32m----> 1\u001b[0;31m \u001b[0mget_peaks\u001b[0m\u001b[0;34m(\u001b[0m\u001b[0mget_avg\u001b[0m\u001b[0;34m(\u001b[0m\u001b[0mx\u001b[0m\u001b[0;34m)\u001b[0m\u001b[0;34m,\u001b[0m\u001b[0mx\u001b[0m\u001b[0;34m.\u001b[0m\u001b[0mmean\u001b[0m\u001b[0;34m(\u001b[0m\u001b[0;34m)\u001b[0m\u001b[0;34m)\u001b[0m\u001b[0;34m\u001b[0m\u001b[0;34m\u001b[0m\u001b[0m\n\u001b[0m",
      "\u001b[0;31mNameError\u001b[0m: name 'get_avg' is not defined"
     ]
    }
   ],
   "source": [
    "get_peaks(get_avg(x),x.mean())"
   ]
  },
  {
   "cell_type": "code",
   "execution_count": null,
   "metadata": {},
   "outputs": [],
   "source": [
    "peaks, f = find_peaks(x, height=h)\n",
    "print(f)\n",
    "w,p  = get_peaks(x, x.mean())\n",
    "plt.plot(df2.Wavenumber[1000:6000], -x)\n",
    "plt.plot(w, p,'x')\n",
    "\n",
    "# plt.plot(peaks+df.Wavenumber.min()+1000, f['peak_heights']-x.mean(), \"x\")\n",
    "# plt.plot(peaks+df.Wavenumber.min()+1000, x[peaks], \"x\")\n",
    "# plt.plot(np.zeros_like(x), \"--\", color=\"gray\")\n",
    "# plt.yscale('symlog')\n",
    "plt.xlim(91000,96000)\n",
    "# plt.show()"
   ]
  },
  {
   "cell_type": "code",
   "execution_count": null,
   "metadata": {},
   "outputs": [],
   "source": [
    "def make_avg(dataf):\n",
    "    blank = np.zeros(np.size(dataf.Wavenumber[1000:6000]))\n",
    "\n",
    "    for j in range(1,11):\n",
    "        name = \"Sample\"+str(j)\n",
    "        blank += dataf[name][1000:6000]\n",
    "    return blank/10\n"
   ]
  },
  {
   "cell_type": "code",
   "execution_count": null,
   "metadata": {},
   "outputs": [],
   "source": [
    "get_peaks(make_avg(df2),np.mean(make_avg(df2)))"
   ]
  },
  {
   "cell_type": "code",
   "execution_count": null,
   "metadata": {},
   "outputs": [],
   "source": [
    "for p, i in enumerate(data):\n",
    "    try:\n",
    "        p[i]-p[i+1]"
   ]
  }
 ],
 "metadata": {
  "kernelspec": {
   "display_name": "Python 3",
   "language": "python",
   "name": "python3"
  },
  "language_info": {
   "codemirror_mode": {
    "name": "ipython",
    "version": 3
   },
   "file_extension": ".py",
   "mimetype": "text/x-python",
   "name": "python",
   "nbconvert_exporter": "python",
   "pygments_lexer": "ipython3",
   "version": "3.8.3"
  }
 },
 "nbformat": 4,
 "nbformat_minor": 4
}
