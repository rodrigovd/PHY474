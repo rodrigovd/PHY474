{
 "cells": [
  {
   "cell_type": "code",
   "execution_count": 1,
   "metadata": {},
   "outputs": [],
   "source": [
    "import numpy as np\n",
    "import matplotlib.pyplot as plt\n",
    "import pandas as pd\n",
    "from sklearn.linear_model import LinearRegression\n",
    "from scipy import stats\n",
    "import scipy.constants as sc"
   ]
  },
  {
   "cell_type": "code",
   "execution_count": 2,
   "metadata": {},
   "outputs": [],
   "source": [
    "delrin = np.average([558, 552, 550, 551])"
   ]
  },
  {
   "cell_type": "code",
   "execution_count": 3,
   "metadata": {},
   "outputs": [],
   "source": [
    "h20 = np.average([22, 22, 30, 20])"
   ]
  },
  {
   "cell_type": "code",
   "execution_count": 4,
   "metadata": {},
   "outputs": [],
   "source": [
    "wood = np.average([422, 386, 392, 397])"
   ]
  },
  {
   "cell_type": "code",
   "execution_count": 5,
   "metadata": {},
   "outputs": [],
   "source": [
    "glass = np.average([968, 969, 968, 968]) # hollow tube with 1atm air"
   ]
  },
  {
   "cell_type": "code",
   "execution_count": 6,
   "metadata": {},
   "outputs": [],
   "source": [
    "nylon = np.average([182,189])"
   ]
  },
  {
   "cell_type": "code",
   "execution_count": 7,
   "metadata": {},
   "outputs": [
    {
     "data": {
      "text/plain": [
       "(552.75, 23.5, 399.25, 968.25, 185.5)"
      ]
     },
     "execution_count": 7,
     "metadata": {},
     "output_type": "execute_result"
    }
   ],
   "source": [
    "delrin, h20, wood, glass, nylon"
   ]
  },
  {
   "cell_type": "code",
   "execution_count": 8,
   "metadata": {},
   "outputs": [],
   "source": [
    "dielectric_constant=np.array([1.00059 ,2.8, 3, 3.8, 7.3])\n",
    "phase = np.array([0, 185.5, 399.25, 552.75, 968.25])\n",
    "material =np.array([\"Air\",\"Nylon\",\"Wood\", \"Delrin\",\"Glass\"])"
   ]
  },
  {
   "cell_type": "code",
   "execution_count": 9,
   "metadata": {},
   "outputs": [],
   "source": [
    "dielectric_constant=np.array([1.000 ,3.7, 2.1, 2.8, 3.12])\n",
    "phase = np.array([0, 526, 208, 242.5, 302])\n",
    "material =np.array([\"Air\",\"Delrin\",\"Teflon\", \"Nylon\",\"Glass\"])"
   ]
  },
  {
   "cell_type": "code",
   "execution_count": 19,
   "metadata": {},
   "outputs": [
    {
     "name": "stdout",
     "output_type": "stream",
     "text": [
      " Slope = 0.0053 \n",
      " intecept = 1.20 \n",
      " R-value = 0.957 \n",
      " STD error =  0.001 \n"
     ]
    },
    {
     "data": {
      "text/plain": [
       "<matplotlib.legend.Legend at 0x7fb7f08ecee0>"
      ]
     },
     "execution_count": 19,
     "metadata": {},
     "output_type": "execute_result"
    },
    {
     "data": {
      "image/png": "[encoded data removed]",
      "text/plain": [
       "<Figure size 432x288 with 1 Axes>"
      ]
     },
     "metadata": {
      "needs_background": "light"
     },
     "output_type": "display_data"
    }
   ],
   "source": [
    "m, b, r_value, p_value, std_err = stats.linregress(phase, dielectric_constant)\n",
    "x= phase\n",
    "y= m*phase +b\n",
    "print(\" Slope = {0:.4f} \\n intecept = {1:.2f} \\n R-value = {2:.3f} \\n STD error = {3: .3f} \".format(m,b,r_value,std_err))\n",
    "for index, typ in enumerate(material):\n",
    "    plt.scatter(phase[index], dielectric_constant[index], label=typ)\n",
    "plt.plot(x, y, label = 'y ={0:.4f}x + {1:.2f}  \\n R-value= {2:.3f}'.format(m,b, r_value))\n",
    "plt.xlabel('Phase in deg$\\degree$')\n",
    "plt.ylabel(' Dielectric Constant')\n",
    "plt.errorbar(x, y, \n",
    "             yerr = 1,  \n",
    "             xerr = 1,  \n",
    "             fmt ='o')\n",
    "plt.ylim(0,8)\n",
    "plt.xlim(0,1000)\n",
    "plt.grid(True)\n",
    "plt.legend()"
   ]
  },
  {
   "cell_type": "code",
   "execution_count": null,
   "metadata": {},
   "outputs": [],
   "source": [
    "data = pd.read_csv(\"Dielectric Constant Data.csv\")\n",
    "# dielectric_constant = data['Dielectric Constant']\n",
    "# phase = data['Avg. Phase']\n"
   ]
  },
  {
   "cell_type": "code",
   "execution_count": null,
   "metadata": {},
   "outputs": [],
   "source": []
  }
 ],
 "metadata": {
  "kernelspec": {
   "display_name": "Python 3",
   "language": "python",
   "name": "python3"
  },
  "language_info": {
   "codemirror_mode": {
    "name": "ipython",
    "version": 3
   },
   "file_extension": ".py",
   "mimetype": "text/x-python",
   "name": "python",
   "nbconvert_exporter": "python",
   "pygments_lexer": "ipython3",
   "version": "3.8.3"
  }
 },
 "nbformat": 4,
 "nbformat_minor": 4
}
