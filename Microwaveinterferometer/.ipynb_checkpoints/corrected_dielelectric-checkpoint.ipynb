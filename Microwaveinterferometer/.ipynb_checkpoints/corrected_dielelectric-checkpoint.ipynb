{
 "cells": [
  {
   "cell_type": "code",
   "execution_count": 1,
   "metadata": {},
   "outputs": [],
   "source": [
    "import numpy as np\n",
    "import matplotlib.pyplot as plt\n",
    "import pandas as pd\n",
    "from scipy import stats\n",
    "import scipy.constants as sc\n",
    "from sklearn.linear_model import LinearRegression"
   ]
  },
  {
   "cell_type": "code",
   "execution_count": 2,
   "metadata": {},
   "outputs": [],
   "source": [
    "Data = {}"
   ]
  },
  {
   "cell_type": "code",
   "execution_count": 3,
   "metadata": {},
   "outputs": [],
   "source": [
    "Data[\"Air\"] = np.array([0, 0, 0])\n",
    "Data[\"Delrin\"] = np.array([435.75, 618.5,620]) #170.75\n",
    "# Data[\"Nylon\"] = np.array([246, 245, 241.75]) #162\n",
    "Data[\"Teflon\"] = np.array([90,278,252])#162\n",
    "Data[\"Plexiglass\"] = np.array([296,307.5,299])##186"
   ]
  },
  {
   "cell_type": "code",
   "execution_count": 4,
   "metadata": {},
   "outputs": [],
   "source": [
    "df = pd.DataFrame.from_dict(Data)"
   ]
  },
  {
   "cell_type": "code",
   "execution_count": 5,
   "metadata": {},
   "outputs": [],
   "source": [
    "df_trans = df.T\n",
    "for j in df_trans.columns:\n",
    "    df_trans.rename(columns = {j: 'Run #'+str(j)}, inplace = True)\n",
    "l = []\n",
    "for i, m in enumerate (df.columns):\n",
    "    l.append(np.average(Data[m]))\n",
    "\n",
    "df_trans[\"Avg. Phase\"] = l"
   ]
  },
  {
   "cell_type": "code",
   "execution_count": 6,
   "metadata": {},
   "outputs": [],
   "source": [
    "df_trans['Dielectric Constant'] = [1.0000, 3.8, 2.1, 2.6]"
   ]
  },
  {
   "cell_type": "code",
   "execution_count": 7,
   "metadata": {},
   "outputs": [
    {
     "data": {
      "text/html": [
       "<div>\n",
       "<style scoped>\n",
       "    .dataframe tbody tr th:only-of-type {\n",
       "        vertical-align: middle;\n",
       "    }\n",
       "\n",
       "    .dataframe tbody tr th {\n",
       "        vertical-align: top;\n",
       "    }\n",
       "\n",
       "    .dataframe thead th {\n",
       "        text-align: right;\n",
       "    }\n",
       "</style>\n",
       "<table border=\"1\" class=\"dataframe\">\n",
       "  <thead>\n",
       "    <tr style=\"text-align: right;\">\n",
       "      <th></th>\n",
       "      <th>Run #0</th>\n",
       "      <th>Run #1</th>\n",
       "      <th>Run #2</th>\n",
       "      <th>Avg. Phase</th>\n",
       "      <th>Dielectric Constant</th>\n",
       "    </tr>\n",
       "  </thead>\n",
       "  <tbody>\n",
       "    <tr>\n",
       "      <th>Air</th>\n",
       "      <td>0.00</td>\n",
       "      <td>0.0</td>\n",
       "      <td>0.0</td>\n",
       "      <td>0.000000</td>\n",
       "      <td>1.0</td>\n",
       "    </tr>\n",
       "    <tr>\n",
       "      <th>Delrin</th>\n",
       "      <td>435.75</td>\n",
       "      <td>618.5</td>\n",
       "      <td>620.0</td>\n",
       "      <td>558.083333</td>\n",
       "      <td>3.8</td>\n",
       "    </tr>\n",
       "    <tr>\n",
       "      <th>Teflon</th>\n",
       "      <td>90.00</td>\n",
       "      <td>278.0</td>\n",
       "      <td>252.0</td>\n",
       "      <td>206.666667</td>\n",
       "      <td>2.1</td>\n",
       "    </tr>\n",
       "    <tr>\n",
       "      <th>Plexiglass</th>\n",
       "      <td>296.00</td>\n",
       "      <td>307.5</td>\n",
       "      <td>299.0</td>\n",
       "      <td>300.833333</td>\n",
       "      <td>2.6</td>\n",
       "    </tr>\n",
       "  </tbody>\n",
       "</table>\n",
       "</div>"
      ],
      "text/plain": [
       "            Run #0  Run #1  Run #2  Avg. Phase  Dielectric Constant\n",
       "Air           0.00     0.0     0.0    0.000000                  1.0\n",
       "Delrin      435.75   618.5   620.0  558.083333                  3.8\n",
       "Teflon       90.00   278.0   252.0  206.666667                  2.1\n",
       "Plexiglass  296.00   307.5   299.0  300.833333                  2.6"
      ]
     },
     "execution_count": 7,
     "metadata": {},
     "output_type": "execute_result"
    }
   ],
   "source": [
    "df_trans"
   ]
  },
  {
   "cell_type": "code",
   "execution_count": 8,
   "metadata": {},
   "outputs": [],
   "source": [
    "phase = df_trans[\"Avg. Phase\"]\n",
    "dielectric_constant = df_trans['Dielectric Constant']"
   ]
  },
  {
   "cell_type": "code",
   "execution_count": 9,
   "metadata": {},
   "outputs": [
    {
     "name": "stdout",
     "output_type": "stream",
     "text": [
      " Slope = 0.0050 \n",
      " intecept = 1.04 \n",
      " R-value = 0.999 \n",
      " STD error =  0.000 \n"
     ]
    },
    {
     "data": {
      "text/plain": [
       "<matplotlib.legend.Legend at 0x7fc571841040>"
      ]
     },
     "execution_count": 9,
     "metadata": {},
     "output_type": "execute_result"
    },
    {
     "data": {
      "image/png": "[encoded data removed]",
      "text/plain": [
       "<Figure size 432x288 with 1 Axes>"
      ]
     },
     "metadata": {
      "needs_background": "light"
     },
     "output_type": "display_data"
    }
   ],
   "source": [
    "m, b, r_value, p_value, std_err = stats.linregress(phase, dielectric_constant)\n",
    "print(\" Slope = {0:.4f} \\n intecept = {1:.2f} \\n R-value = {2:.3f} \\n STD error = {3: .3f} \".format(m,b,r_value,std_err))\n",
    "for index, typ in enumerate(df.columns):\n",
    "    plt.scatter(phase[index], dielectric_constant[index], label=typ)\n",
    "plt.plot(phase, m*phase + b, label = 'y ={0:.4f}x + {1:.2f}  \\n R-value= {2:.3f}'.format(m,b, r_value))\n",
    "plt.xlabel('Phase in deg$\\degree$')\n",
    "plt.ylabel(' Dielectric Constant')\n",
    "plt.ylim(0,5)\n",
    "plt.xlim(0,700)\n",
    "plt.grid(True)\n",
    "plt.legend()"
   ]
  },
  {
   "cell_type": "code",
   "execution_count": 10,
   "metadata": {},
   "outputs": [],
   "source": [
    "x = phase[index]\n"
   ]
  },
  {
   "cell_type": "code",
   "execution_count": 37,
   "metadata": {},
   "outputs": [
    {
     "name": "stdout",
     "output_type": "stream",
     "text": [
      " Slope = 0.0050 \n",
      " intecept = 1.04 \n",
      " R-value = 0.999 \n",
      " STD error =  0.000 \n"
     ]
    },
    {
     "data": {
      "image/png": "[encoded data removed]",
      "text/plain": [
       "<Figure size 360x360 with 2 Axes>"
      ]
     },
     "metadata": {
      "needs_background": "light"
     },
     "output_type": "display_data"
    }
   ],
   "source": [
    "m, b, r_value, p_value, std_err = stats.linregress(phase, dielectric_constant)\n",
    "plt.figure(figsize=(5,5))\n",
    "plt.subplot(211)\n",
    "print(\" Slope = {0:.4f} \\n intecept = {1:.2f} \\n R-value = {2:.3f} \\n STD error = {3: .3f} \".format(m,b,r_value,std_err))\n",
    "plt.errorbar(phase, dielectric_constant, \n",
    "             yerr = 0.1,  \n",
    "             xerr = 1,  \n",
    "             fmt ='.')\n",
    "for index, typ in enumerate(df.columns):\n",
    "    plt.scatter(phase[index], dielectric_constant[index], label=typ)\n",
    "plt.plot(phase, m*phase + b, label = 'y ={0:.4f}$\\phi$ + {1:.2f}  \\n R-value= {2:.3f}'.format(m,b, r_value))\n",
    "\n",
    "\n",
    "plt.title(\"Dielectric Constant K vs Phase Shift $\\phi$\",fontsize=24)\n",
    "\n",
    "plt.ylabel('K          ',rotation=0,fontsize=12)\n",
    "plt.ylim(0, 4)\n",
    "plt.grid(True)\n",
    "plt.legend()\n",
    "\n",
    "plt.subplot(212)\n",
    "plt.plot(phase, (m*phase + b)-dielectric_constant,'or')\n",
    "plt.plot(phase, dielectric_constant*0)\n",
    "plt.ylabel('Residuals',fontsize=12)\n",
    "plt.xlabel('$\\phi$ in degrees $\\degree$',fontsize=12)\n",
    "plt.xlim(0,600)\n",
    "plt.grid(True)"
   ]
  },
  {
   "cell_type": "code",
   "execution_count": 12,
   "metadata": {},
   "outputs": [],
   "source": [
    "df_trans.to_csv(\"Dielectric Constant Data.csv\", index=True)"
   ]
  },
  {
   "cell_type": "code",
   "execution_count": null,
   "metadata": {},
   "outputs": [],
   "source": []
  }
 ],
 "metadata": {
  "kernelspec": {
   "display_name": "Python 3",
   "language": "python",
   "name": "python3"
  },
  "language_info": {
   "codemirror_mode": {
    "name": "ipython",
    "version": 3
   },
   "file_extension": ".py",
   "mimetype": "text/x-python",
   "name": "python",
   "nbconvert_exporter": "python",
   "pygments_lexer": "ipython3",
   "version": "3.8.3"
  }
 },
 "nbformat": 4,
 "nbformat_minor": 4
}
