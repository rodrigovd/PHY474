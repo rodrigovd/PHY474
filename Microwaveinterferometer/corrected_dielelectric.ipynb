{
 "cells": [
  {
   "cell_type": "code",
   "execution_count": 1,
   "metadata": {},
   "outputs": [],
   "source": [
    "import numpy as np\n",
    "import matplotlib.pyplot as plt\n",
    "import pandas as pd\n",
    "from scipy import stats\n",
    "import scipy.constants as sc"
   ]
  },
  {
   "cell_type": "code",
   "execution_count": 2,
   "metadata": {},
   "outputs": [],
   "source": [
    "Data = {}"
   ]
  },
  {
   "cell_type": "code",
   "execution_count": 3,
   "metadata": {},
   "outputs": [],
   "source": [
    "Data[\"Air\"] = np.array([0, 0, 0])\n",
    "Data[\"Delrin\"] = np.array([435.75, 618.5,620]) #170.75\n",
    "Data[\"Nylon\"] = np.array([246, 245, 241.75]) #162\n",
    "Data[\"Teflon\"] = np.array([90,278,252])#162\n",
    "Data[\"Plexiglass\"] = np.array([296,307.5,299])##186"
   ]
  },
  {
   "cell_type": "code",
   "execution_count": 4,
   "metadata": {},
   "outputs": [],
   "source": [
    "df = pd.DataFrame.from_dict(Data)"
   ]
  },
  {
   "cell_type": "code",
   "execution_count": 5,
   "metadata": {},
   "outputs": [],
   "source": [
    "df_trans = df.T\n",
    "for j in df_trans.columns:\n",
    "    df_trans.rename(columns = {j: 'Run #'+str(j)}, inplace = True)\n",
    "l = []\n",
    "for i, m in enumerate (df.columns):\n",
    "    l.append(np.average(Data[m]))\n",
    "\n",
    "df_trans[\"Avg. Phase\"] = l"
   ]
  },
  {
   "cell_type": "code",
   "execution_count": 6,
   "metadata": {},
   "outputs": [],
   "source": [
    "df_trans['Dielectric Constant'] = [1.000059, 3.8,2.8, 2.1, 2.6]"
   ]
  },
  {
   "cell_type": "code",
   "execution_count": 7,
   "metadata": {},
   "outputs": [
    {
     "data": {
      "text/html": [
       "<div>\n",
       "<style scoped>\n",
       "    .dataframe tbody tr th:only-of-type {\n",
       "        vertical-align: middle;\n",
       "    }\n",
       "\n",
       "    .dataframe tbody tr th {\n",
       "        vertical-align: top;\n",
       "    }\n",
       "\n",
       "    .dataframe thead th {\n",
       "        text-align: right;\n",
       "    }\n",
       "</style>\n",
       "<table border=\"1\" class=\"dataframe\">\n",
       "  <thead>\n",
       "    <tr style=\"text-align: right;\">\n",
       "      <th></th>\n",
       "      <th>Run #0</th>\n",
       "      <th>Run #1</th>\n",
       "      <th>Run #2</th>\n",
       "      <th>Avg. Phase</th>\n",
       "      <th>Dielectric Constant</th>\n",
       "    </tr>\n",
       "  </thead>\n",
       "  <tbody>\n",
       "    <tr>\n",
       "      <th>Air</th>\n",
       "      <td>0.00</td>\n",
       "      <td>0.0</td>\n",
       "      <td>0.00</td>\n",
       "      <td>0.000000</td>\n",
       "      <td>1.000059</td>\n",
       "    </tr>\n",
       "    <tr>\n",
       "      <th>Delrin</th>\n",
       "      <td>435.75</td>\n",
       "      <td>618.5</td>\n",
       "      <td>620.00</td>\n",
       "      <td>558.083333</td>\n",
       "      <td>3.800000</td>\n",
       "    </tr>\n",
       "    <tr>\n",
       "      <th>Nylon</th>\n",
       "      <td>246.00</td>\n",
       "      <td>245.0</td>\n",
       "      <td>241.75</td>\n",
       "      <td>244.250000</td>\n",
       "      <td>2.800000</td>\n",
       "    </tr>\n",
       "    <tr>\n",
       "      <th>Teflon</th>\n",
       "      <td>90.00</td>\n",
       "      <td>278.0</td>\n",
       "      <td>252.00</td>\n",
       "      <td>206.666667</td>\n",
       "      <td>2.100000</td>\n",
       "    </tr>\n",
       "    <tr>\n",
       "      <th>Plexiglass</th>\n",
       "      <td>296.00</td>\n",
       "      <td>307.5</td>\n",
       "      <td>299.00</td>\n",
       "      <td>300.833333</td>\n",
       "      <td>2.600000</td>\n",
       "    </tr>\n",
       "  </tbody>\n",
       "</table>\n",
       "</div>"
      ],
      "text/plain": [
       "            Run #0  Run #1  Run #2  Avg. Phase  Dielectric Constant\n",
       "Air           0.00     0.0    0.00    0.000000             1.000059\n",
       "Delrin      435.75   618.5  620.00  558.083333             3.800000\n",
       "Nylon       246.00   245.0  241.75  244.250000             2.800000\n",
       "Teflon       90.00   278.0  252.00  206.666667             2.100000\n",
       "Plexiglass  296.00   307.5  299.00  300.833333             2.600000"
      ]
     },
     "execution_count": 7,
     "metadata": {},
     "output_type": "execute_result"
    }
   ],
   "source": [
    "df_trans"
   ]
  },
  {
   "cell_type": "code",
   "execution_count": 8,
   "metadata": {},
   "outputs": [],
   "source": [
    "phase = df_trans[\"Avg. Phase\"]\n",
    "dielectric_constant = df_trans['Dielectric Constant']"
   ]
  },
  {
   "cell_type": "code",
   "execution_count": 9,
   "metadata": {},
   "outputs": [
    {
     "name": "stdout",
     "output_type": "stream",
     "text": [
      " Slope = 0.0050 \n",
      " intecept = 1.16 \n",
      " R-value = 0.971 \n",
      " STD error =  0.001 \n"
     ]
    },
    {
     "data": {
      "text/plain": [
       "<matplotlib.legend.Legend at 0x7f18feab3e50>"
      ]
     },
     "execution_count": 9,
     "metadata": {},
     "output_type": "execute_result"
    },
    {
     "data": {
      "image/png": "[encoded data removed]",
      "text/plain": [
       "<Figure size 432x288 with 1 Axes>"
      ]
     },
     "metadata": {
      "needs_background": "light"
     },
     "output_type": "display_data"
    }
   ],
   "source": [
    "m, b, r_value, p_value, std_err = stats.linregress(phase, dielectric_constant)\n",
    "print(\" Slope = {0:.4f} \\n intecept = {1:.2f} \\n R-value = {2:.3f} \\n STD error = {3: .3f} \".format(m,b,r_value,std_err))\n",
    "for index, typ in enumerate(df.columns):\n",
    "    plt.scatter(phase[index], dielectric_constant[index], label=typ)\n",
    "plt.plot(phase, m*phase + b, label = 'y ={0:.4f}x + {1:.2f}  \\n R-value= {2:.3f}'.format(m,b, r_value))\n",
    "plt.xlabel('Phase in deg$\\degree$')\n",
    "plt.ylabel(' Dielectric Constant')\n",
    "plt.ylim(0,5)\n",
    "plt.xlim(0,700)\n",
    "plt.grid(True)\n",
    "plt.legend()"
   ]
  },
  {
   "cell_type": "code",
   "execution_count": 15,
   "metadata": {},
   "outputs": [],
   "source": [
    "df_trans.to_csv(\"Dielectric Constant Data.csv\", index=True)"
   ]
  }
 ],
 "metadata": {
  "kernelspec": {
   "display_name": "Python 3",
   "language": "python",
   "name": "python3"
  },
  "language_info": {
   "codemirror_mode": {
    "name": "ipython",
    "version": 3
   },
   "file_extension": ".py",
   "mimetype": "text/x-python",
   "name": "python",
   "nbconvert_exporter": "python",
   "pygments_lexer": "ipython3",
   "version": "3.8.3"
  }
 },
 "nbformat": 4,
 "nbformat_minor": 4
}
